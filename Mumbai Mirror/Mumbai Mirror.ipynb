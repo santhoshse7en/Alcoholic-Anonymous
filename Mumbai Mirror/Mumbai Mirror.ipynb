{
 "cells": [
  {
   "cell_type": "code",
   "execution_count": 1,
   "metadata": {},
   "outputs": [],
   "source": [
    "from newsplease import NewsPlease # An integrated web crawler and information extractor for news \n",
    "from bs4 import BeautifulSoup # Python library for pulling data out of HTML and XML files\n",
    "from requests import get # standard for making HTTP requests in Python\n",
    "import pandas as pd # library written for data manipulation and analysis\n",
    "import sys #  System-specific parameters and functions"
   ]
  },
  {
   "cell_type": "code",
   "execution_count": 2,
   "metadata": {},
   "outputs": [],
   "source": [
    "url = 'https://mumbaimirror.indiatimes.com/getsearchdata.cms?query=Alcoholic+Anonymous'\n",
    "response = get(url)\n",
    "soup = BeautifulSoup(response.text, 'lxml')"
   ]
  },
  {
   "cell_type": "code",
   "execution_count": 3,
   "metadata": {},
   "outputs": [
    {
     "name": "stdout",
     "output_type": "stream",
     "text": [
      "['https://mumbaimirror.indiatimes.com/others/sunday-read/insta-poll/articleshow/68870370.cms', 'https://mumbaimirror.indiatimes.com/opinion/columnists/bachi-karkaria/giving-gyan/articleshow/67545555.cms', 'https://mumbaimirror.indiatimes.com/mumbai/other/college-student-22-falls-to-his-death-from-mahalaxmi-hostel/articleshow/66929866.cms', 'https://mumbaimirror.indiatimes.com/others/sunday-read/coming-soon-to-a-mall-near-you/articleshow/66299838.cms', 'https://mumbaimirror.indiatimes.com/entertainment/bollywood/metoo-alok-nath-had-admitted-of-groping-navneet-nishan-reveals-a-former-co-star/articleshow/66159445.cms', 'https://mumbaimirror.indiatimes.com/entertainment/bollywood/me-too-alok-naths-lawyer-claims-vinta-nandas-allegations-are-false-and-defamatory/articleshow/66150545.cms', 'https://mumbaimirror.indiatimes.com/mumbai/crime/seven-best-employees-who-danced-threw-cash-dismissed/articleshow/65569581.cms', 'https://mumbaimirror.indiatimes.com/mumbai/other/mulund-hotelier-shoots-self-with-licensed-gun/articleshow/65480452.cms', 'https://mumbaimirror.indiatimes.com/mumbai/crime/many-at-the-party-were-high-on-lsd/articleshow/64152221.cms']\n"
     ]
    }
   ],
   "source": [
    "urls = ['https://mumbaimirror.indiatimes.com'+soup.select_one('.left-part1').select('a')[i]['href'] for i in range(len(soup.select_one('.left-part1').select('a')))]\n",
    "urls = list(dict.fromkeys(urls))\n",
    "print(urls)"
   ]
  },
  {
   "cell_type": "code",
   "execution_count": 4,
   "metadata": {},
   "outputs": [
    {
     "name": "stdout",
     "output_type": "stream",
     "text": [
      "8 : https://mumbaimirror.indiatimes.com/mumbai/crime/many-at-the-party-were-high-on-lsd/articleshow/64152221.cms5480452.cms581.cms-and-defamatory/articleshow/66150545.cms\r"
     ]
    }
   ],
   "source": [
    "t, dtp, iu, a, td = [], [], [], [], []\n",
    "for index, url in enumerate(urls):\n",
    "    try:\n",
    "        article = NewsPlease.from_url(url)\n",
    "        t.append(article.title)\n",
    "        dtp.append(str(article.date_publish))\n",
    "        iu.append(article.image_url)\n",
    "        td.append(article.text)\n",
    "        a.append(article.authors)\n",
    "    except:\n",
    "        t.append(None)\n",
    "        dtp.append(None)\n",
    "        iu.append(None)\n",
    "        a.append(None)\n",
    "        td.append(None)\n",
    "\n",
    "    sys.stdout.write('\\r' + str(index) + ' : ' + str(url) + '\\r')\n",
    "    sys.stdout.flush()"
   ]
  },
  {
   "cell_type": "code",
   "execution_count": 5,
   "metadata": {},
   "outputs": [],
   "source": [
    "tbl = pd.DataFrame({'title' : t, 'Author' : a, 'Date' : dtp, 'Image_url' : iu, 'News' : td})\n",
    "tbl.to_excel('Mumbai_Mirror_AA_News.xls')"
   ]
  },
  {
   "cell_type": "code",
   "execution_count": null,
   "metadata": {},
   "outputs": [],
   "source": []
  }
 ],
 "metadata": {
  "kernelspec": {
   "display_name": "Python 3",
   "language": "python",
   "name": "python3"
  },
  "language_info": {
   "codemirror_mode": {
    "name": "ipython",
    "version": 3
   },
   "file_extension": ".py",
   "mimetype": "text/x-python",
   "name": "python",
   "nbconvert_exporter": "python",
   "pygments_lexer": "ipython3",
   "version": "3.7.1"
  }
 },
 "nbformat": 4,
 "nbformat_minor": 2
}
