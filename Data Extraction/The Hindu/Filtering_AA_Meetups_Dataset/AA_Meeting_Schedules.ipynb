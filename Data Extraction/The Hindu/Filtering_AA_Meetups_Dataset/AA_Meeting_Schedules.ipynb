{
 "cells": [
  {
   "cell_type": "code",
   "execution_count": 1,
   "metadata": {},
   "outputs": [],
   "source": [
    "import itertools # iterators for efficient looping\n",
    "import pandas as pd # primary data structure library\n",
    "import re # match or find other strings or sets of strings"
   ]
  },
  {
   "cell_type": "code",
   "execution_count": 2,
   "metadata": {},
   "outputs": [
    {
     "data": {
      "text/html": [
       "<div>\n",
       "<style scoped>\n",
       "    .dataframe tbody tr th:only-of-type {\n",
       "        vertical-align: middle;\n",
       "    }\n",
       "\n",
       "    .dataframe tbody tr th {\n",
       "        vertical-align: top;\n",
       "    }\n",
       "\n",
       "    .dataframe thead th {\n",
       "        text-align: right;\n",
       "    }\n",
       "</style>\n",
       "<table border=\"1\" class=\"dataframe\">\n",
       "  <thead>\n",
       "    <tr style=\"text-align: right;\">\n",
       "      <th></th>\n",
       "      <th>Headline</th>\n",
       "      <th>Author</th>\n",
       "      <th>Published_Region</th>\n",
       "      <th>Published_Date</th>\n",
       "      <th>Meetings</th>\n",
       "      <th>Main_Article</th>\n",
       "      <th>Source_urls</th>\n",
       "    </tr>\n",
       "  </thead>\n",
       "  <tbody>\n",
       "    <tr>\n",
       "      <th>0</th>\n",
       "      <td>Madurai Today</td>\n",
       "      <td>Special Correspondent</td>\n",
       "      <td>TAMIL NADU</td>\n",
       "      <td>April 14, 2019</td>\n",
       "      <td>Anonymous: Meeting; U. C. Higher Secondary Sc...</td>\n",
       "      <td>RELIGION\\r\\nSelva Vinayagar Temple: Panchangam...</td>\n",
       "      <td>https://www.thehindu.com/todays-paper/tp-natio...</td>\n",
       "    </tr>\n",
       "    <tr>\n",
       "      <th>1</th>\n",
       "      <td>Madurai Today</td>\n",
       "      <td>Special Correspondent</td>\n",
       "      <td>TAMIL NADU</td>\n",
       "      <td>April 13, 2019</td>\n",
       "      <td>Anonymous: Meeting; Ahana Hospital, Anna Bus ...</td>\n",
       "      <td>RELIGION\\r\\nMeenakshi Sundareswarar Temple: Ch...</td>\n",
       "      <td>https://www.thehindu.com/todays-paper/tp-natio...</td>\n",
       "    </tr>\n",
       "    <tr>\n",
       "      <th>2</th>\n",
       "      <td>Engagements</td>\n",
       "      <td>NaN</td>\n",
       "      <td>TAMIL NADU</td>\n",
       "      <td>April 13, 2019</td>\n",
       "      <td>NaN</td>\n",
       "      <td>NaN</td>\n",
       "      <td>https://www.thehindu.com/todays-paper/tp-natio...</td>\n",
       "    </tr>\n",
       "    <tr>\n",
       "      <th>3</th>\n",
       "      <td>Madurai Today</td>\n",
       "      <td>NaN</td>\n",
       "      <td>TAMIL NADU</td>\n",
       "      <td>April 12, 2019</td>\n",
       "      <td>Anonymous: Meeting; Tamilarasi School, Melur,...</td>\n",
       "      <td>RELIGION\\r\\nMeenakshi Sundareswarar Temple: Ch...</td>\n",
       "      <td>https://www.thehindu.com/todays-paper/tp-natio...</td>\n",
       "    </tr>\n",
       "    <tr>\n",
       "      <th>4</th>\n",
       "      <td>engagements</td>\n",
       "      <td>NaN</td>\n",
       "      <td>TAMIL NADU</td>\n",
       "      <td>April 12, 2019</td>\n",
       "      <td>NaN</td>\n",
       "      <td>NaN</td>\n",
       "      <td>https://www.thehindu.com/todays-paper/tp-natio...</td>\n",
       "    </tr>\n",
       "  </tbody>\n",
       "</table>\n",
       "</div>"
      ],
      "text/plain": [
       "        Headline                 Author Published_Region  Published_Date  \\\n",
       "0  Madurai Today  Special Correspondent       TAMIL NADU  April 14, 2019   \n",
       "1  Madurai Today  Special Correspondent       TAMIL NADU  April 13, 2019   \n",
       "2    Engagements                    NaN       TAMIL NADU  April 13, 2019   \n",
       "3  Madurai Today                    NaN       TAMIL NADU  April 12, 2019   \n",
       "4    engagements                    NaN       TAMIL NADU  April 12, 2019   \n",
       "\n",
       "                                            Meetings  \\\n",
       "0   Anonymous: Meeting; U. C. Higher Secondary Sc...   \n",
       "1   Anonymous: Meeting; Ahana Hospital, Anna Bus ...   \n",
       "2                                                NaN   \n",
       "3   Anonymous: Meeting; Tamilarasi School, Melur,...   \n",
       "4                                                NaN   \n",
       "\n",
       "                                        Main_Article  \\\n",
       "0  RELIGION\\r\\nSelva Vinayagar Temple: Panchangam...   \n",
       "1  RELIGION\\r\\nMeenakshi Sundareswarar Temple: Ch...   \n",
       "2                                                NaN   \n",
       "3  RELIGION\\r\\nMeenakshi Sundareswarar Temple: Ch...   \n",
       "4                                                NaN   \n",
       "\n",
       "                                         Source_urls  \n",
       "0  https://www.thehindu.com/todays-paper/tp-natio...  \n",
       "1  https://www.thehindu.com/todays-paper/tp-natio...  \n",
       "2  https://www.thehindu.com/todays-paper/tp-natio...  \n",
       "3  https://www.thehindu.com/todays-paper/tp-natio...  \n",
       "4  https://www.thehindu.com/todays-paper/tp-natio...  "
      ]
     },
     "execution_count": 2,
     "metadata": {},
     "output_type": "execute_result"
    }
   ],
   "source": [
    "df = pd.read_csv('The_Hindu_AA_Meetings.csv') # Data read into a pandas dataframe\n",
    "df.head()"
   ]
  },
  {
   "cell_type": "code",
   "execution_count": 3,
   "metadata": {},
   "outputs": [
    {
     "data": {
      "text/plain": [
       "(10616, 7)"
      ]
     },
     "execution_count": 3,
     "metadata": {},
     "output_type": "execute_result"
    }
   ],
   "source": [
    "# size of dataframe (rows, columns)\n",
    "df.shape"
   ]
  },
  {
   "cell_type": "code",
   "execution_count": 4,
   "metadata": {},
   "outputs": [
    {
     "data": {
      "text/plain": [
       "0     Anonymous: Meeting; U. C. Higher Secondary Sc...\n",
       "1     Anonymous: Meeting; Ahana Hospital, Anna Bus ...\n",
       "2                                                  NaN\n",
       "3     Anonymous: Meeting; Tamilarasi School, Melur,...\n",
       "4                                                  NaN\n",
       "Name: Meetings, dtype: object"
      ]
     },
     "execution_count": 4,
     "metadata": {},
     "output_type": "execute_result"
    }
   ],
   "source": [
    "df['Meetings'].head() # top 5 rows of the dataset "
   ]
  },
  {
   "cell_type": "code",
   "execution_count": 5,
   "metadata": {},
   "outputs": [
    {
     "data": {
      "text/plain": [
       "10616"
      ]
     },
     "execution_count": 5,
     "metadata": {},
     "output_type": "execute_result"
    }
   ],
   "source": [
    "len(df['Meetings']) # lenght of the dataframe"
   ]
  },
  {
   "cell_type": "code",
   "execution_count": 8,
   "metadata": {},
   "outputs": [
    {
     "data": {
      "text/plain": [
       "831"
      ]
     },
     "execution_count": 8,
     "metadata": {},
     "output_type": "execute_result"
    }
   ],
   "source": [
    "meet_df = df[df['Meetings'].str.contains('Anonymous', case=False, na=False)].dropna() # filtering Meetings on the list of News  \n",
    "len(meet_df)"
   ]
  },
  {
   "cell_type": "code",
   "execution_count": 9,
   "metadata": {},
   "outputs": [],
   "source": [
    "# remove a few unnecessary columns\n",
    "# in pandas axis=0 represents rows (default) and axis=1 represents columns.\n",
    "meet_df.drop(['Author', 'Main_Article', 'Source_urls'], axis=1, inplace=True) \n",
    "meet_df.to_csv('meetings.csv', index=False)"
   ]
  },
  {
   "cell_type": "code",
   "execution_count": 10,
   "metadata": {},
   "outputs": [
    {
     "data": {
      "text/html": [
       "<div>\n",
       "<style scoped>\n",
       "    .dataframe tbody tr th:only-of-type {\n",
       "        vertical-align: middle;\n",
       "    }\n",
       "\n",
       "    .dataframe tbody tr th {\n",
       "        vertical-align: top;\n",
       "    }\n",
       "\n",
       "    .dataframe thead th {\n",
       "        text-align: right;\n",
       "    }\n",
       "</style>\n",
       "<table border=\"1\" class=\"dataframe\">\n",
       "  <thead>\n",
       "    <tr style=\"text-align: right;\">\n",
       "      <th></th>\n",
       "      <th>Headline</th>\n",
       "      <th>Published_Region</th>\n",
       "      <th>Published_Date</th>\n",
       "      <th>Meetings</th>\n",
       "    </tr>\n",
       "  </thead>\n",
       "  <tbody>\n",
       "    <tr>\n",
       "      <th>0</th>\n",
       "      <td>Madurai Today</td>\n",
       "      <td>TAMIL NADU</td>\n",
       "      <td>Sunday, April 14, 2019</td>\n",
       "      <td>Anonymous: Meeting; U. C. Higher Secondary Sc...</td>\n",
       "    </tr>\n",
       "    <tr>\n",
       "      <th>1</th>\n",
       "      <td>Madurai Today</td>\n",
       "      <td>TAMIL NADU</td>\n",
       "      <td>Saturday, April 13, 2019</td>\n",
       "      <td>Anonymous: Meeting; Ahana Hospital, Anna Bus ...</td>\n",
       "    </tr>\n",
       "    <tr>\n",
       "      <th>2</th>\n",
       "      <td>Madurai Today</td>\n",
       "      <td>TAMIL NADU</td>\n",
       "      <td>Wednesday, April 10, 2019</td>\n",
       "      <td>Anonymous: Meeting; R. C. Church, Sivaganga R...</td>\n",
       "    </tr>\n",
       "    <tr>\n",
       "      <th>3</th>\n",
       "      <td>Madurai today for April 7</td>\n",
       "      <td>TAMIL NADU</td>\n",
       "      <td>Sunday, April 7, 2019</td>\n",
       "      <td>Anonymous: Meeting; U. C. Higher Secondary Sc...</td>\n",
       "    </tr>\n",
       "    <tr>\n",
       "      <th>4</th>\n",
       "      <td>Madurai Today - March 5, 2019</td>\n",
       "      <td>TAMIL NADU</td>\n",
       "      <td>Friday, April 5, 2019</td>\n",
       "      <td>Anonymous: Meeting; Tamilarasi School, Melur,...</td>\n",
       "    </tr>\n",
       "  </tbody>\n",
       "</table>\n",
       "</div>"
      ],
      "text/plain": [
       "                        Headline Published_Region             Published_Date  \\\n",
       "0                  Madurai Today       TAMIL NADU     Sunday, April 14, 2019   \n",
       "1                  Madurai Today       TAMIL NADU   Saturday, April 13, 2019   \n",
       "2                  Madurai Today       TAMIL NADU  Wednesday, April 10, 2019   \n",
       "3      Madurai today for April 7       TAMIL NADU      Sunday, April 7, 2019   \n",
       "4  Madurai Today - March 5, 2019       TAMIL NADU      Friday, April 5, 2019   \n",
       "\n",
       "                                            Meetings  \n",
       "0   Anonymous: Meeting; U. C. Higher Secondary Sc...  \n",
       "1   Anonymous: Meeting; Ahana Hospital, Anna Bus ...  \n",
       "2   Anonymous: Meeting; R. C. Church, Sivaganga R...  \n",
       "3   Anonymous: Meeting; U. C. Higher Secondary Sc...  \n",
       "4   Anonymous: Meeting; Tamilarasi School, Melur,...  "
      ]
     },
     "execution_count": 10,
     "metadata": {},
     "output_type": "execute_result"
    }
   ],
   "source": [
    "# before running the script change the published date as below format using excel\n",
    "df = pd.read_csv('meetings.csv')\n",
    "df.head()"
   ]
  },
  {
   "cell_type": "code",
   "execution_count": 11,
   "metadata": {},
   "outputs": [
    {
     "data": {
      "text/plain": [
       "0    [11 a.m., 6.30 p.m., 7 p.m.]\n",
       "1                        [7 p.m.]\n",
       "2             [6.30 p.m., 7 p.m.]\n",
       "3    [11 a.m., 6.30 p.m., 7 p.m.]\n",
       "4             [6.30 p.m., 7 p.m.]\n",
       "Name: time, dtype: object"
      ]
     },
     "execution_count": 11,
     "metadata": {},
     "output_type": "execute_result"
    }
   ],
   "source": [
    "# Filtering out the times from the Meetings Schedule\n",
    "meets = []\n",
    "for item in df['Meetings']:\n",
    "    a = re.findall(r'\\s(\\d{2}\\.\\d{2}\\s?(?:am.|pm.|a.m.|p.m.))|\\s(\\d{1}\\s?(?:am.|pm.|a.m.|p.m.))|\\s(\\d{2}\\s?(?:am.|pm.|a.m.|p.m.))|\\s(\\d{1}\\.\\d{2}\\s?(?:am.|pm.|a.m.|p.m.))|\\s(\\d{2}\\.\\d{1}\\s?(?:am.|pm.|a.m.|p.m.))', item)\n",
    "    str_list = list(itertools.chain(*a))\n",
    "    meets.append(list(filter(None, str_list)))\n",
    "    \n",
    "df['time'] = meets\n",
    "df['time'].head()"
   ]
  },
  {
   "cell_type": "code",
   "execution_count": 12,
   "metadata": {},
   "outputs": [
    {
     "data": {
      "text/plain": [
       "0       Sunday\n",
       "1     Saturday\n",
       "2    Wednesday\n",
       "3       Sunday\n",
       "4       Friday\n",
       "Name: day, dtype: object"
      ]
     },
     "execution_count": 12,
     "metadata": {},
     "output_type": "execute_result"
    }
   ],
   "source": [
    "# Extract the Day of meetings held\n",
    "day = [item.split()[0].replace(',', '') for item in df['Published_Date']]\n",
    "df['day'] = day\n",
    "df['day'].head()"
   ]
  },
  {
   "cell_type": "code",
   "execution_count": 13,
   "metadata": {},
   "outputs": [
    {
     "data": {
      "text/plain": [
       "0   2019-04-14\n",
       "1   2019-04-13\n",
       "2   2019-04-10\n",
       "3   2019-04-07\n",
       "4   2019-04-05\n",
       "Name: date, dtype: datetime64[ns]"
      ]
     },
     "execution_count": 13,
     "metadata": {},
     "output_type": "execute_result"
    }
   ],
   "source": [
    "# Filtering the Date of meetings held\n",
    "df['date'] = pd.to_datetime(df['Published_Date'])\n",
    "df['date'].head()"
   ]
  },
  {
   "cell_type": "code",
   "execution_count": 14,
   "metadata": {},
   "outputs": [
    {
     "data": {
      "text/html": [
       "<div>\n",
       "<style scoped>\n",
       "    .dataframe tbody tr th:only-of-type {\n",
       "        vertical-align: middle;\n",
       "    }\n",
       "\n",
       "    .dataframe tbody tr th {\n",
       "        vertical-align: top;\n",
       "    }\n",
       "\n",
       "    .dataframe thead th {\n",
       "        text-align: right;\n",
       "    }\n",
       "</style>\n",
       "<table border=\"1\" class=\"dataframe\">\n",
       "  <thead>\n",
       "    <tr style=\"text-align: right;\">\n",
       "      <th></th>\n",
       "      <th>Headline</th>\n",
       "      <th>Day</th>\n",
       "      <th>Published_Date</th>\n",
       "      <th>Published_Region</th>\n",
       "      <th>Timings</th>\n",
       "      <th>Meetings</th>\n",
       "    </tr>\n",
       "  </thead>\n",
       "  <tbody>\n",
       "    <tr>\n",
       "      <th>0</th>\n",
       "      <td>Madurai Today</td>\n",
       "      <td>Sunday</td>\n",
       "      <td>2019-04-14</td>\n",
       "      <td>TAMIL NADU</td>\n",
       "      <td>[11 a.m., 6.30 p.m., 7 p.m.]</td>\n",
       "      <td>Anonymous: Meeting; U. C. Higher Secondary Sc...</td>\n",
       "    </tr>\n",
       "    <tr>\n",
       "      <th>1</th>\n",
       "      <td>Madurai Today</td>\n",
       "      <td>Saturday</td>\n",
       "      <td>2019-04-13</td>\n",
       "      <td>TAMIL NADU</td>\n",
       "      <td>[7 p.m.]</td>\n",
       "      <td>Anonymous: Meeting; Ahana Hospital, Anna Bus ...</td>\n",
       "    </tr>\n",
       "    <tr>\n",
       "      <th>2</th>\n",
       "      <td>Madurai Today</td>\n",
       "      <td>Wednesday</td>\n",
       "      <td>2019-04-10</td>\n",
       "      <td>TAMIL NADU</td>\n",
       "      <td>[6.30 p.m., 7 p.m.]</td>\n",
       "      <td>Anonymous: Meeting; R. C. Church, Sivaganga R...</td>\n",
       "    </tr>\n",
       "    <tr>\n",
       "      <th>3</th>\n",
       "      <td>Madurai today for April 7</td>\n",
       "      <td>Sunday</td>\n",
       "      <td>2019-04-07</td>\n",
       "      <td>TAMIL NADU</td>\n",
       "      <td>[11 a.m., 6.30 p.m., 7 p.m.]</td>\n",
       "      <td>Anonymous: Meeting; U. C. Higher Secondary Sc...</td>\n",
       "    </tr>\n",
       "    <tr>\n",
       "      <th>4</th>\n",
       "      <td>Madurai Today - March 5, 2019</td>\n",
       "      <td>Friday</td>\n",
       "      <td>2019-04-05</td>\n",
       "      <td>TAMIL NADU</td>\n",
       "      <td>[6.30 p.m., 7 p.m.]</td>\n",
       "      <td>Anonymous: Meeting; Tamilarasi School, Melur,...</td>\n",
       "    </tr>\n",
       "  </tbody>\n",
       "</table>\n",
       "</div>"
      ],
      "text/plain": [
       "                        Headline        Day Published_Date Published_Region  \\\n",
       "0                  Madurai Today     Sunday     2019-04-14       TAMIL NADU   \n",
       "1                  Madurai Today   Saturday     2019-04-13       TAMIL NADU   \n",
       "2                  Madurai Today  Wednesday     2019-04-10       TAMIL NADU   \n",
       "3      Madurai today for April 7     Sunday     2019-04-07       TAMIL NADU   \n",
       "4  Madurai Today - March 5, 2019     Friday     2019-04-05       TAMIL NADU   \n",
       "\n",
       "                        Timings  \\\n",
       "0  [11 a.m., 6.30 p.m., 7 p.m.]   \n",
       "1                      [7 p.m.]   \n",
       "2           [6.30 p.m., 7 p.m.]   \n",
       "3  [11 a.m., 6.30 p.m., 7 p.m.]   \n",
       "4           [6.30 p.m., 7 p.m.]   \n",
       "\n",
       "                                            Meetings  \n",
       "0   Anonymous: Meeting; U. C. Higher Secondary Sc...  \n",
       "1   Anonymous: Meeting; Ahana Hospital, Anna Bus ...  \n",
       "2   Anonymous: Meeting; R. C. Church, Sivaganga R...  \n",
       "3   Anonymous: Meeting; U. C. Higher Secondary Sc...  \n",
       "4   Anonymous: Meeting; Tamilarasi School, Melur,...  "
      ]
     },
     "execution_count": 14,
     "metadata": {},
     "output_type": "execute_result"
    }
   ],
   "source": [
    "# Creating new DataFrame from the Filtered_AA_Meeting_Schedules\n",
    "df = pd.DataFrame({'Headline' : df['Headline'], \n",
    "                   'Day' : df['day'], \n",
    "                   'Published_Date' : df['date'],\n",
    "                   'Published_Region' : df['Published_Region'], \n",
    "                   'Timings' : df['time'], \n",
    "                   'Meetings' : df['Meetings']})\n",
    "df.head()"
   ]
  },
  {
   "cell_type": "code",
   "execution_count": 15,
   "metadata": {},
   "outputs": [],
   "source": [
    "df.to_csv('Meeting_Schedule.csv', index=False)"
   ]
  },
  {
   "cell_type": "code",
   "execution_count": null,
   "metadata": {},
   "outputs": [],
   "source": []
  }
 ],
 "metadata": {
  "kernelspec": {
   "display_name": "Python 3",
   "language": "python",
   "name": "python3"
  },
  "language_info": {
   "codemirror_mode": {
    "name": "ipython",
    "version": 3
   },
   "file_extension": ".py",
   "mimetype": "text/x-python",
   "name": "python",
   "nbconvert_exporter": "python",
   "pygments_lexer": "ipython3",
   "version": "3.7.1"
  }
 },
 "nbformat": 4,
 "nbformat_minor": 2
}
