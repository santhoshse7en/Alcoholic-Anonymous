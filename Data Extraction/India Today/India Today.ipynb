{
 "cells": [
  {
   "cell_type": "code",
   "execution_count": 1,
   "metadata": {},
   "outputs": [],
   "source": [
    "from newsplease import NewsPlease # An integrated web crawler and information extractor for news \n",
    "from bs4 import BeautifulSoup # Python library for pulling data out of HTML and XML files\n",
    "from requests import get # standard for making HTTP requests in Python\n",
    "import pandas as pd # library written for data manipulation and analysis\n",
    "import sys #  System-specific parameters and functions"
   ]
  },
  {
   "cell_type": "code",
   "execution_count": 2,
   "metadata": {},
   "outputs": [],
   "source": [
    "urls = []\n",
    "for i in range(13):\n",
    "    url = 'https://www.indiatoday.in/topic/Alcoholic-Anonymous/Story?page=' + str(i)\n",
    "    response = get(url)\n",
    "    soup = BeautifulSoup(response.text, 'lxml')\n",
    "    \n",
    "    url = [soup.select('.views-field.views-field-label')[i].a['href'] for i in range(len(soup.select('.views-field.views-field-label')))]\n",
    "    urls.extend(url)"
   ]
  },
  {
   "cell_type": "code",
   "execution_count": 3,
   "metadata": {},
   "outputs": [
    {
     "name": "stdout",
     "output_type": "stream",
     "text": [
      "170 : https://www.indiatoday.in/magazine/defence/story/19930415-contusion-in-command-755924-1993-04-15-27-735471-2008-02-178-2008-01-16-2011-12-202004-11-0887-2002-03-25001-06-04\r"
     ]
    }
   ],
   "source": [
    "t, dtp, iu, a, td = [], [], [], [], []\n",
    "for index, url in enumerate(urls):\n",
    "    try:\n",
    "        article = NewsPlease.from_url(url)\n",
    "        t.append(article.title)\n",
    "        dtp.append(str(article.date_publish))\n",
    "        iu.append(article.image_url)\n",
    "        td.append(article.text)\n",
    "        a.append(article.authors)\n",
    "    except:\n",
    "        t.append(None)\n",
    "        dtp.append(None)\n",
    "        iu.append(None)\n",
    "        a.append(None)\n",
    "        td.append(None)\n",
    "\n",
    "    sys.stdout.write('\\r' + str(index) + ' : ' + str(url) + '\\r')\n",
    "    sys.stdout.flush()"
   ]
  },
  {
   "cell_type": "code",
   "execution_count": 4,
   "metadata": {},
   "outputs": [],
   "source": [
    "tbl = pd.DataFrame({'title' : t, 'Author' : a, 'Date' : dtp, 'Image_url' : iu, 'News' : td})\n",
    "tbl.to_csv('India_Today_AA_News.csv')"
   ]
  },
  {
   "cell_type": "code",
   "execution_count": null,
   "metadata": {},
   "outputs": [],
   "source": []
  },
  {
   "cell_type": "code",
   "execution_count": null,
   "metadata": {},
   "outputs": [],
   "source": []
  }
 ],
 "metadata": {
  "kernelspec": {
   "display_name": "Python 3",
   "language": "python",
   "name": "python3"
  },
  "language_info": {
   "codemirror_mode": {
    "name": "ipython",
    "version": 3
   },
   "file_extension": ".py",
   "mimetype": "text/x-python",
   "name": "python",
   "nbconvert_exporter": "python",
   "pygments_lexer": "ipython3",
   "version": "3.7.1"
  }
 },
 "nbformat": 4,
 "nbformat_minor": 2
}
