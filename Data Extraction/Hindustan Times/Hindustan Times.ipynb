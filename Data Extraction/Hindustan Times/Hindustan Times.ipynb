{
 "cells": [
  {
   "cell_type": "code",
   "execution_count": 1,
   "metadata": {},
   "outputs": [],
   "source": [
    "from newsplease import NewsPlease\n",
    "from bs4 import BeautifulSoup\n",
    "from requests import get\n",
    "import pandas as pd\n",
    "import sys"
   ]
  },
  {
   "cell_type": "code",
   "execution_count": 2,
   "metadata": {},
   "outputs": [],
   "source": [
    "url = 'https://www.hindustantimes.com/search?q=Alcoholic-Anonymous'\n",
    "response = get(url).text\n",
    "soup = BeautifulSoup(response, 'lxml')"
   ]
  },
  {
   "cell_type": "code",
   "execution_count": 3,
   "metadata": {},
   "outputs": [],
   "source": [
    "urls = [soup.select_one('.searchNews').select('li')[i].select_one('.media-heading').a['href'] for i in range(len(soup.select_one('.searchNews').select('li')))]"
   ]
  },
  {
   "cell_type": "code",
   "execution_count": 4,
   "metadata": {},
   "outputs": [],
   "source": [
    "headlines = [soup.select_one('.searchNews').select('li')[i].select_one('.media-heading').text.strip() for i in range(len(soup.select_one('.searchNews').select('li')))]"
   ]
  },
  {
   "cell_type": "code",
   "execution_count": 5,
   "metadata": {},
   "outputs": [
    {
     "name": "stdout",
     "output_type": "stream",
     "text": [
      "Wall time: 18.1 sindustantimes.com/health-and-fitness/what-is-relapse/story-kNHIacDOfbOnSufJyQ8jGO.htmlHDk2YAkTN.html7ynbcPT2iHcMOHOyFsPJ.html.html\n"
     ]
    }
   ],
   "source": [
    "%%time\n",
    "headline, time, news, image, authors = [], [], [], [], []\n",
    "\n",
    "for index, url in enumerate(urls):\n",
    "    # Parse the url to NewsPlease \n",
    "    article = NewsPlease.from_url(url)\n",
    "    \n",
    "    # Extracts the Headlines of News Article related to AA\n",
    "    try:\n",
    "        headline.append(article.title.strip())\n",
    "    except:\n",
    "        headline.append(None)\n",
    "    \n",
    "    # Extracts the Authors of News Article related to AA\n",
    "    try:\n",
    "        authors.append(article.authors)\n",
    "    except:\n",
    "        authors.append(None)\n",
    "    \n",
    "    # Extracts the Main_Image_url of News Article related to AA\n",
    "    try:\n",
    "        image.append(article.image_url)\n",
    "    except:\n",
    "        image.append(None)\n",
    "    \n",
    "    # Extracts the Published_Date of News Article related to AA\n",
    "    try:\n",
    "        time.append(str(article.date_publish.isoformat()))\n",
    "    except: \n",
    "        time.append(None)\n",
    "      \n",
    "    # Extracts the Main_News from Article related to AA\n",
    "    try:\n",
    "        news.append(article.text.replace('\\n', '').replace('\\r', '').strip())\n",
    "    except:\n",
    "        news.append(None)\n",
    "        \n",
    "    sys.stdout.write('\\r' + str(index) + ' : ' + str(url) + '\\r')\n",
    "    sys.stdout.flush()"
   ]
  },
  {
   "cell_type": "code",
   "execution_count": 6,
   "metadata": {},
   "outputs": [
    {
     "data": {
      "text/html": [
       "<div>\n",
       "<style scoped>\n",
       "    .dataframe tbody tr th:only-of-type {\n",
       "        vertical-align: middle;\n",
       "    }\n",
       "\n",
       "    .dataframe tbody tr th {\n",
       "        vertical-align: top;\n",
       "    }\n",
       "\n",
       "    .dataframe thead th {\n",
       "        text-align: right;\n",
       "    }\n",
       "</style>\n",
       "<table border=\"1\" class=\"dataframe\">\n",
       "  <thead>\n",
       "    <tr style=\"text-align: right;\">\n",
       "      <th></th>\n",
       "      <th>Headline</th>\n",
       "      <th>Authors</th>\n",
       "      <th>Main_Image</th>\n",
       "      <th>Published_Date</th>\n",
       "      <th>News</th>\n",
       "      <th>Source_urls</th>\n",
       "    </tr>\n",
       "  </thead>\n",
       "  <tbody>\n",
       "    <tr>\n",
       "      <th>0</th>\n",
       "      <td>Why an openly gay PM such as Leo Varadkar is a...</td>\n",
       "      <td>[]</td>\n",
       "      <td>https://www.hindustantimes.com/rf/image_size_9...</td>\n",
       "      <td>2017-06-03T13:42:47</td>\n",
       "      <td>January 2015, Dublin, Ireland: The country’s h...</td>\n",
       "      <td>https://www.hindustantimes.com/opinion/why-an-...</td>\n",
       "    </tr>\n",
       "    <tr>\n",
       "      <th>1</th>\n",
       "      <td>Maha Min says LGBTs need psychological treatme...</td>\n",
       "      <td>[Ht Correspondent]</td>\n",
       "      <td>https://www.hindustantimes.com/images/app-imag...</td>\n",
       "      <td>2015-03-24T12:13:00</td>\n",
       "      <td>The opposition on Tuesday strongly condemned M...</td>\n",
       "      <td>https://www.hindustantimes.com/india/maha-min-...</td>\n",
       "    </tr>\n",
       "    <tr>\n",
       "      <th>2</th>\n",
       "      <td>I was misquoted: Goa minister's U-turn on LGBT...</td>\n",
       "      <td>[]</td>\n",
       "      <td>https://www.hindustantimes.com/rf/image_size_6...</td>\n",
       "      <td>2014-01-11T00:00:00</td>\n",
       "      <td>After his controversial remarks over the LGBT ...</td>\n",
       "      <td>https://www.hindustantimes.com/india/i-was-mis...</td>\n",
       "    </tr>\n",
       "    <tr>\n",
       "      <th>3</th>\n",
       "      <td>News Headlines, Breaking News, Election 2019 N...</td>\n",
       "      <td>[]</td>\n",
       "      <td>https://www.hindustantimes.com/images/app-imag...</td>\n",
       "      <td>2019-04-08T00:00:00</td>\n",
       "      <td>Apr 08, 2019 05:36 ISTThe parenting journey ca...</td>\n",
       "      <td>https://www.hindustantimes.com/india/india-s-g...</td>\n",
       "    </tr>\n",
       "    <tr>\n",
       "      <th>4</th>\n",
       "      <td>Gay Goa Gone? State seeks to ‘cure’ homosexuals</td>\n",
       "      <td>[]</td>\n",
       "      <td>https://www.hindustantimes.com/rf/image_size_6...</td>\n",
       "      <td>2013-12-11T00:00:00</td>\n",
       "      <td>The Goa government is contemplating to set up ...</td>\n",
       "      <td>https://www.hindustantimes.com/india/gay-goa-g...</td>\n",
       "    </tr>\n",
       "    <tr>\n",
       "      <th>5</th>\n",
       "      <td>Critics' review: Aashiqui 2 misses the quintes...</td>\n",
       "      <td>[]</td>\n",
       "      <td>https://www.hindustantimes.com/rf/image_size_6...</td>\n",
       "      <td>2013-03-28T00:00:00</td>\n",
       "      <td>Aashiqui 2Mohit SuriAditya Roy Kapur, Shraddha...</td>\n",
       "      <td>https://www.hindustantimes.com/movie-reviews/c...</td>\n",
       "    </tr>\n",
       "    <tr>\n",
       "      <th>6</th>\n",
       "      <td>Suffering from the ‘Like’ me syndrome?</td>\n",
       "      <td>[Amrah Ashraf]</td>\n",
       "      <td>https://www.hindustantimes.com/images/app-imag...</td>\n",
       "      <td>2011-11-12T16:08:00</td>\n",
       "      <td>Gunjan Arora, a Delhi-based primary school tea...</td>\n",
       "      <td>https://www.hindustantimes.com/social-media/su...</td>\n",
       "    </tr>\n",
       "    <tr>\n",
       "      <th>7</th>\n",
       "      <td>Eureka! My space is online!</td>\n",
       "      <td>[Vipul Mudgal]</td>\n",
       "      <td>https://www.hindustantimes.com/images/app-imag...</td>\n",
       "      <td>2008-02-11T03:05:00</td>\n",
       "      <td>If you are a regular on a social network, chan...</td>\n",
       "      <td>https://www.hindustantimes.com/books/eureka-my...</td>\n",
       "    </tr>\n",
       "    <tr>\n",
       "      <th>8</th>\n",
       "      <td>Yoga: Body and beyond</td>\n",
       "      <td>[Suma Varughese]</td>\n",
       "      <td>https://www.hindustantimes.com/images/app-imag...</td>\n",
       "      <td>2004-08-16T12:23:00</td>\n",
       "      <td>Corporate whizkids relax with yoga. Patients r...</td>\n",
       "      <td>https://www.hindustantimes.com/india/yoga-body...</td>\n",
       "    </tr>\n",
       "    <tr>\n",
       "      <th>9</th>\n",
       "      <td>News Headlines, Breaking News, Election 2019 N...</td>\n",
       "      <td>[]</td>\n",
       "      <td>https://www.hindustantimes.com/images/app-imag...</td>\n",
       "      <td>2019-04-08T00:00:00</td>\n",
       "      <td>Apr 08, 2019 05:36 ISTThe parenting journey ca...</td>\n",
       "      <td>https://www.hindustantimes.com/health-and-fitn...</td>\n",
       "    </tr>\n",
       "  </tbody>\n",
       "</table>\n",
       "</div>"
      ],
      "text/plain": [
       "                                            Headline             Authors  \\\n",
       "0  Why an openly gay PM such as Leo Varadkar is a...                  []   \n",
       "1  Maha Min says LGBTs need psychological treatme...  [Ht Correspondent]   \n",
       "2  I was misquoted: Goa minister's U-turn on LGBT...                  []   \n",
       "3  News Headlines, Breaking News, Election 2019 N...                  []   \n",
       "4    Gay Goa Gone? State seeks to ‘cure’ homosexuals                  []   \n",
       "5  Critics' review: Aashiqui 2 misses the quintes...                  []   \n",
       "6             Suffering from the ‘Like’ me syndrome?      [Amrah Ashraf]   \n",
       "7                        Eureka! My space is online!      [Vipul Mudgal]   \n",
       "8                              Yoga: Body and beyond    [Suma Varughese]   \n",
       "9  News Headlines, Breaking News, Election 2019 N...                  []   \n",
       "\n",
       "                                          Main_Image       Published_Date  \\\n",
       "0  https://www.hindustantimes.com/rf/image_size_9...  2017-06-03T13:42:47   \n",
       "1  https://www.hindustantimes.com/images/app-imag...  2015-03-24T12:13:00   \n",
       "2  https://www.hindustantimes.com/rf/image_size_6...  2014-01-11T00:00:00   \n",
       "3  https://www.hindustantimes.com/images/app-imag...  2019-04-08T00:00:00   \n",
       "4  https://www.hindustantimes.com/rf/image_size_6...  2013-12-11T00:00:00   \n",
       "5  https://www.hindustantimes.com/rf/image_size_6...  2013-03-28T00:00:00   \n",
       "6  https://www.hindustantimes.com/images/app-imag...  2011-11-12T16:08:00   \n",
       "7  https://www.hindustantimes.com/images/app-imag...  2008-02-11T03:05:00   \n",
       "8  https://www.hindustantimes.com/images/app-imag...  2004-08-16T12:23:00   \n",
       "9  https://www.hindustantimes.com/images/app-imag...  2019-04-08T00:00:00   \n",
       "\n",
       "                                                News  \\\n",
       "0  January 2015, Dublin, Ireland: The country’s h...   \n",
       "1  The opposition on Tuesday strongly condemned M...   \n",
       "2  After his controversial remarks over the LGBT ...   \n",
       "3  Apr 08, 2019 05:36 ISTThe parenting journey ca...   \n",
       "4  The Goa government is contemplating to set up ...   \n",
       "5  Aashiqui 2Mohit SuriAditya Roy Kapur, Shraddha...   \n",
       "6  Gunjan Arora, a Delhi-based primary school tea...   \n",
       "7  If you are a regular on a social network, chan...   \n",
       "8  Corporate whizkids relax with yoga. Patients r...   \n",
       "9  Apr 08, 2019 05:36 ISTThe parenting journey ca...   \n",
       "\n",
       "                                         Source_urls  \n",
       "0  https://www.hindustantimes.com/opinion/why-an-...  \n",
       "1  https://www.hindustantimes.com/india/maha-min-...  \n",
       "2  https://www.hindustantimes.com/india/i-was-mis...  \n",
       "3  https://www.hindustantimes.com/india/india-s-g...  \n",
       "4  https://www.hindustantimes.com/india/gay-goa-g...  \n",
       "5  https://www.hindustantimes.com/movie-reviews/c...  \n",
       "6  https://www.hindustantimes.com/social-media/su...  \n",
       "7  https://www.hindustantimes.com/books/eureka-my...  \n",
       "8  https://www.hindustantimes.com/india/yoga-body...  \n",
       "9  https://www.hindustantimes.com/health-and-fitn...  "
      ]
     },
     "execution_count": 6,
     "metadata": {},
     "output_type": "execute_result"
    }
   ],
   "source": [
    "tbl = pd.DataFrame({'Headline' : headline, \n",
    "                    'Authors' : authors, \n",
    "                    'Main_Image' : image, \n",
    "                    'Published_Date' : time, \n",
    "                    'News' : news,\n",
    "                    'Source_urls' : urls})\n",
    "tbl"
   ]
  },
  {
   "cell_type": "code",
   "execution_count": 7,
   "metadata": {},
   "outputs": [
    {
     "name": "stdout",
     "output_type": "stream",
     "text": [
      "Filename:  //include '.xls' at the end of the filenameHindustan_Times_AA_News_DETAILS.xls\n"
     ]
    }
   ],
   "source": [
    "tbl.to_excel(input(\"Filename:  //include '.xls' at the end of the filename\"))"
   ]
  },
  {
   "cell_type": "code",
   "execution_count": 8,
   "metadata": {},
   "outputs": [],
   "source": [
    "tbl.to_csv('Hindustan_Times_AA_News_DETAILS.csv', index=False)"
   ]
  },
  {
   "cell_type": "code",
   "execution_count": null,
   "metadata": {},
   "outputs": [],
   "source": []
  }
 ],
 "metadata": {
  "kernelspec": {
   "display_name": "Python 3",
   "language": "python",
   "name": "python3"
  },
  "language_info": {
   "codemirror_mode": {
    "name": "ipython",
    "version": 3
   },
   "file_extension": ".py",
   "mimetype": "text/x-python",
   "name": "python",
   "nbconvert_exporter": "python",
   "pygments_lexer": "ipython3",
   "version": "3.7.1"
  }
 },
 "nbformat": 4,
 "nbformat_minor": 2
}
