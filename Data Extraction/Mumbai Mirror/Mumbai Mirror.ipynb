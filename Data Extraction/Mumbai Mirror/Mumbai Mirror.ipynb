{
 "cells": [
  {
   "cell_type": "markdown",
   "metadata": {},
   "source": [
    "## Alcholic Anonymous News articles extraction from Mumbai Mirror. Data Extraction of following parameters\n",
    "- Headline\n",
    "- Description\n",
    "- Author\n",
    "- Published_Date\n",
    "- News\n",
    "- URL\n",
    "- Keywords\n",
    "- Summary\n",
    "\n",
    "### Importing the necessary Libraries"
   ]
  },
  {
   "cell_type": "code",
   "execution_count": 1,
   "metadata": {},
   "outputs": [],
   "source": [
    "from selenium.webdriver.chrome.options import Options # enables options in web browser\n",
    "from selenium import webdriver # web-based automation tool for Python\n",
    "from newspaper import Article # Article scraping & curation\n",
    "from bs4 import BeautifulSoup # Python library for pulling data out of HTML and XML files\n",
    "from requests import get # standard for making HTTP requests in Python\n",
    "import pandas as pd # library written for data manipulation and analysis\n",
    "import sys, time #  System-specific parameters and functions"
   ]
  },
  {
   "cell_type": "markdown",
   "metadata": {},
   "source": [
    "### Creating Empty lists for Alcholic Anonymous News Articles parameters data to be extracted"
   ]
  },
  {
   "cell_type": "code",
   "execution_count": 2,
   "metadata": {},
   "outputs": [],
   "source": [
    "headlines, descriptions, dates, authors, news, keywords, summaries, urls = [], [], [], [], [], [], [], []"
   ]
  },
  {
   "cell_type": "markdown",
   "metadata": {},
   "source": [
    "### Finding the total no.of.pages by total no.of articles from google search results¶"
   ]
  },
  {
   "cell_type": "code",
   "execution_count": 3,
   "metadata": {},
   "outputs": [],
   "source": [
    "keyword = 'Alcoholics Anonymous site:mumbaimirror.indiatimes.com'\n",
    "\n",
    "url = 'https://www.google.com/search?q=' + '+'.join(keyword.split())\n",
    "\n",
    "options = Options()\n",
    "options.headless = True\n",
    "browser = webdriver.Chrome(options=options)\n",
    "browser.get(url)\n",
    "\n",
    "page = browser.page_source\n",
    "soup = BeautifulSoup(page, 'lxml')\n",
    "max_pages = round([int(s) for s in soup.select_one('#resultStats').text.split() if s.isdigit()][0]/10)"
   ]
  },
  {
   "cell_type": "markdown",
   "metadata": {},
   "source": [
    "### Iterates max_pages value through while loop. Scraping the Articles urls"
   ]
  },
  {
   "cell_type": "code",
   "execution_count": 4,
   "metadata": {},
   "outputs": [
    {
     "name": "stdout",
     "output_type": "stream",
     "text": [
      "2 : 3\r"
     ]
    }
   ],
   "source": [
    "index = 0\n",
    "\n",
    "while True:\n",
    "    try:\n",
    "        index +=1\n",
    "        page = browser.page_source\n",
    "        soup = BeautifulSoup(page, 'lxml')\n",
    "        linky = [soup.select('.r')[i].a['href'] for i in range(len(soup.select('.r')))]\n",
    "        urls.extend(linky)\n",
    "        if index == max_pages:\n",
    "            break\n",
    "        browser.find_element_by_xpath('//*[@id=\"pnnext\"]/span[2]').click()\n",
    "        time.sleep(2)\n",
    "        sys.stdout.write('\\r' + str(index) + ' : ' + str(max_pages) + '\\r')\n",
    "        sys.stdout.flush()\n",
    "    except:\n",
    "        pass\n",
    "    \n",
    "browser.quit()"
   ]
  },
  {
   "cell_type": "markdown",
   "metadata": {},
   "source": [
    "### To remove duplicates urls entries in the list by executing below line"
   ]
  },
  {
   "cell_type": "code",
   "execution_count": 5,
   "metadata": {},
   "outputs": [
    {
     "name": "stdout",
     "output_type": "stream",
     "text": [
      "24 <class 'list'>\n"
     ]
    }
   ],
   "source": [
    "urls = list(dict.fromkeys(urls))\n",
    "print(len(urls), type(urls))"
   ]
  },
  {
   "cell_type": "markdown",
   "metadata": {},
   "source": [
    "### Iterates urls through for loop. Scraping the Articles with above parameters"
   ]
  },
  {
   "cell_type": "code",
   "execution_count": 6,
   "metadata": {},
   "outputs": [
    {
     "name": "stdout",
     "output_type": "stream",
     "text": [
      "Wall time: 59.2 saimirror.indiatimes.com/mumbai/other/ats-top-boss-gets-threat-call/articleshow/15872943.cms-ended-up-having-alcohol-and-unprotected-sex,-which-I-don't-rememberNow-she-says-she-is-pregnantHow-will-I-know-if-it-is-my-child/sexpertanswer.cms?cid=44881\n"
     ]
    }
   ],
   "source": [
    "%%time\n",
    "for index, url in enumerate(urls):\n",
    "    try:\n",
    "        # Parse the url to NewsPlease \n",
    "        soup = BeautifulSoup(get(url).text, 'lxml')\n",
    "        article = Article(url)\n",
    "        article.download()\n",
    "        article.parse()\n",
    "        article.nlp()\n",
    "        \n",
    "        # Extracts the Headlines\n",
    "        try:\n",
    "            try:\n",
    "                headlines.append(article.title.strip())\n",
    "            except:\n",
    "                headlines.append(soup.select_one('meta[property=\"og:title\"]')['content'].strip())\n",
    "        except:\n",
    "            headlines.append(None)\n",
    "            \n",
    "        # Extracts the Descriptions    \n",
    "        try:\n",
    "            try:\n",
    "                descriptions.append(soup.select_one('meta[property=\"og:description\"]')['content'].strip().replace('\\n', ' '))\n",
    "            except:\n",
    "                descriptions.append(article.meta_description.strip())\n",
    "        except:\n",
    "            descriptions.append(None)\n",
    "            \n",
    "        # Extracts the Authors\n",
    "        try:\n",
    "            try:\n",
    "                authors.append(soup.select_one('meta[name=\"author\"]')['content'].strip())\n",
    "            except:\n",
    "                authors.append(article.authors.strip())\n",
    "        except:\n",
    "            authors.append(None)\n",
    "        \n",
    "        # Extracts the published dates\n",
    "        try:\n",
    "            try:\n",
    "                dates.append(str(article.publish_date))\n",
    "            except:\n",
    "                dates.append(soup.select_one('meta[property=\"article:published_time\"]')['content'].strip())\n",
    "        except:\n",
    "            dates.append(None)\n",
    "            \n",
    "        # Extracts the news articles\n",
    "        try:\n",
    "            try:\n",
    "                news.append(soup.select_one('.storyText').text.replace('\\n', '').strip())\n",
    "            except:\n",
    "                news.append(article.text.strip())\n",
    "        except:\n",
    "            news.append(None)\n",
    "            \n",
    "        # Extracts Keywords and Summaries    \n",
    "        try:\n",
    "            keywords.append(article.keywords)\n",
    "            summaries.append(article.summary)\n",
    "        except:\n",
    "            keywords.append(None)\n",
    "            summaries.append(None)\n",
    "            \n",
    "    except:\n",
    "        headlines.append(None)\n",
    "        descriptions.append(None)\n",
    "        authors.append(None)\n",
    "        dates.append(None)\n",
    "        news.append(None)\n",
    "        keywords.append(None)\n",
    "        summaries.append(None)\n",
    "\n",
    "    sys.stdout.write('\\r' + str(index) + ' : ' + str(url) + '\\r')\n",
    "    sys.stdout.flush()"
   ]
  },
  {
   "cell_type": "markdown",
   "metadata": {},
   "source": [
    "### Checking Array Length of each list to create DataFrame"
   ]
  },
  {
   "cell_type": "code",
   "execution_count": 7,
   "metadata": {},
   "outputs": [
    {
     "name": "stdout",
     "output_type": "stream",
     "text": [
      "24 24 24 24 24 24 24 24\n"
     ]
    }
   ],
   "source": [
    "print(len(headlines), len(descriptions), len(authors), len(dates), len(news), len(keywords), len(summaries), len(urls))"
   ]
  },
  {
   "cell_type": "markdown",
   "metadata": {},
   "source": [
    "### Creating a csv file after checking array length and if to url error creates NaN values in the rows and dropping it"
   ]
  },
  {
   "cell_type": "code",
   "execution_count": 8,
   "metadata": {},
   "outputs": [
    {
     "data": {
      "text/html": [
       "<div>\n",
       "<style scoped>\n",
       "    .dataframe tbody tr th:only-of-type {\n",
       "        vertical-align: middle;\n",
       "    }\n",
       "\n",
       "    .dataframe tbody tr th {\n",
       "        vertical-align: top;\n",
       "    }\n",
       "\n",
       "    .dataframe thead th {\n",
       "        text-align: right;\n",
       "    }\n",
       "</style>\n",
       "<table border=\"1\" class=\"dataframe\">\n",
       "  <thead>\n",
       "    <tr style=\"text-align: right;\">\n",
       "      <th></th>\n",
       "      <th>Headlines</th>\n",
       "      <th>Descriptions</th>\n",
       "      <th>Authors</th>\n",
       "      <th>Published_Dates</th>\n",
       "      <th>Articles</th>\n",
       "      <th>Keywords</th>\n",
       "      <th>Summaries</th>\n",
       "    </tr>\n",
       "  </thead>\n",
       "  <tbody>\n",
       "    <tr>\n",
       "      <th>0</th>\n",
       "      <td>Alcoholic Anonymous asked to vacate civic prem...</td>\n",
       "      <td>The organisation runs its national head office...</td>\n",
       "      <td>None</td>\n",
       "      <td>None</td>\n",
       "      <td>Alcoholics Anonymous\\n\\nHelen Keller\\n\\nspread...</td>\n",
       "      <td>[21, school, classrooms, schools, civic, premi...</td>\n",
       "      <td>I will give them apositive response,” he said....</td>\n",
       "    </tr>\n",
       "    <tr>\n",
       "      <th>1</th>\n",
       "      <td>Heartbreak cure: Why you need to celebrate the...</td>\n",
       "      <td>Love is like a drug — romantic love causes cha...</td>\n",
       "      <td>None</td>\n",
       "      <td>None</td>\n",
       "      <td>Love is like a drug — romantic love causes cha...</td>\n",
       "      <td>[pain, know, past, faith, moment, feel, future...</td>\n",
       "      <td>To know that, one day, even this difficult and...</td>\n",
       "    </tr>\n",
       "    <tr>\n",
       "      <th>2</th>\n",
       "      <td>Alcoholic cops, go for AA meetings</td>\n",
       "      <td>This refers to 'CP set to reassign 250 alcohol...</td>\n",
       "      <td>None</td>\n",
       "      <td>None</td>\n",
       "      <td>This refers to 'CP set to reassign 250 alcohol...</td>\n",
       "      <td>[refers, mm, bomb, cp, aa, force, alcoholic, n...</td>\n",
       "      <td>This refers to 'CP set to reassign 250 alcohol...</td>\n",
       "    </tr>\n",
       "    <tr>\n",
       "      <th>3</th>\n",
       "      <td>Alcoholic deaddiction awareness programme held...</td>\n",
       "      <td>Vashi:  A group of members of Alcoholic Anonym...</td>\n",
       "      <td>None</td>\n",
       "      <td>None</td>\n",
       "      <td>motivating talk: The AA members explained the ...</td>\n",
       "      <td>[stn, quit, alcohol, deaddiction, vashi, polic...</td>\n",
       "      <td>The members of AA aimed at achieving their pri...</td>\n",
       "    </tr>\n",
       "    <tr>\n",
       "      <th>4</th>\n",
       "      <td>Joseph Pereira: Mumbai Heroes</td>\n",
       "      <td>For 36 years now, Fr Joseph Pereira has been u...</td>\n",
       "      <td>None</td>\n",
       "      <td>None</td>\n",
       "      <td>A Father’s healing touch\\n\\nFather Joseph Pere...</td>\n",
       "      <td>[father, fr, foundation, pereira, joe, rehabil...</td>\n",
       "      <td>A Father’s healing touchFather Joseph PereiraG...</td>\n",
       "    </tr>\n",
       "  </tbody>\n",
       "</table>\n",
       "</div>"
      ],
      "text/plain": [
       "                                           Headlines  \\\n",
       "0  Alcoholic Anonymous asked to vacate civic prem...   \n",
       "1  Heartbreak cure: Why you need to celebrate the...   \n",
       "2                 Alcoholic cops, go for AA meetings   \n",
       "3  Alcoholic deaddiction awareness programme held...   \n",
       "4                      Joseph Pereira: Mumbai Heroes   \n",
       "\n",
       "                                        Descriptions Authors Published_Dates  \\\n",
       "0  The organisation runs its national head office...    None            None   \n",
       "1  Love is like a drug — romantic love causes cha...    None            None   \n",
       "2  This refers to 'CP set to reassign 250 alcohol...    None            None   \n",
       "3  Vashi:  A group of members of Alcoholic Anonym...    None            None   \n",
       "4  For 36 years now, Fr Joseph Pereira has been u...    None            None   \n",
       "\n",
       "                                            Articles  \\\n",
       "0  Alcoholics Anonymous\\n\\nHelen Keller\\n\\nspread...   \n",
       "1  Love is like a drug — romantic love causes cha...   \n",
       "2  This refers to 'CP set to reassign 250 alcohol...   \n",
       "3  motivating talk: The AA members explained the ...   \n",
       "4  A Father’s healing touch\\n\\nFather Joseph Pere...   \n",
       "\n",
       "                                            Keywords  \\\n",
       "0  [21, school, classrooms, schools, civic, premi...   \n",
       "1  [pain, know, past, faith, moment, feel, future...   \n",
       "2  [refers, mm, bomb, cp, aa, force, alcoholic, n...   \n",
       "3  [stn, quit, alcohol, deaddiction, vashi, polic...   \n",
       "4  [father, fr, foundation, pereira, joe, rehabil...   \n",
       "\n",
       "                                           Summaries  \n",
       "0  I will give them apositive response,” he said....  \n",
       "1  To know that, one day, even this difficult and...  \n",
       "2  This refers to 'CP set to reassign 250 alcohol...  \n",
       "3  The members of AA aimed at achieving their pri...  \n",
       "4  A Father’s healing touchFather Joseph PereiraG...  "
      ]
     },
     "execution_count": 8,
     "metadata": {},
     "output_type": "execute_result"
    }
   ],
   "source": [
    "tbl = pd.DataFrame({'Headlines' : headlines,\n",
    "                    'Descriptions' : descriptions,\n",
    "                    'Authors' : authors,\n",
    "                    'Published_Dates' : dates, \n",
    "                    'Articles' : news,\n",
    "                    'Keywords' : keywords,\n",
    "                    'Summaries' : summaries,})\n",
    "\n",
    "tbl.to_csv('Mumbai Mirror.csv', index=False)\n",
    "tbl.head()"
   ]
  },
  {
   "cell_type": "code",
   "execution_count": null,
   "metadata": {},
   "outputs": [],
   "source": []
  }
 ],
 "metadata": {
  "kernelspec": {
   "display_name": "Python 3",
   "language": "python",
   "name": "python3"
  },
  "language_info": {
   "codemirror_mode": {
    "name": "ipython",
    "version": 3
   },
   "file_extension": ".py",
   "mimetype": "text/x-python",
   "name": "python",
   "nbconvert_exporter": "python",
   "pygments_lexer": "ipython3",
   "version": "3.7.1"
  }
 },
 "nbformat": 4,
 "nbformat_minor": 2
}
