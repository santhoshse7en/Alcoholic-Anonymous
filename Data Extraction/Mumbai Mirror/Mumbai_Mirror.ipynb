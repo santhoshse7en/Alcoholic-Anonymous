{
 "cells": [
  {
   "cell_type": "markdown",
   "metadata": {},
   "source": [
    "# Alcholic Anonymous News articles extraction from Mumbai Mirror Newspaper\n",
    "\n",
    "## Importing the necessary Libraries"
   ]
  },
  {
   "cell_type": "code",
   "execution_count": 1,
   "metadata": {},
   "outputs": [],
   "source": [
    "from selenium.webdriver.chrome.options import Options # enables options in web browser\n",
    "from selenium import webdriver # web-based automation tool for Python\n",
    "from newspaper import Article # Article scraping & curation\n",
    "from bs4 import BeautifulSoup # Python library for pulling data out of HTML and XML files\n",
    "from requests import get # standard for making HTTP requests in Python\n",
    "import pandas as pd # library written for data manipulation and analysis\n",
    "import sys, time #  System-specific parameters and functions."
   ]
  },
  {
   "cell_type": "markdown",
   "metadata": {},
   "source": [
    "## Lists for Alcholic Anonymous News Articles extracted data"
   ]
  },
  {
   "cell_type": "code",
   "execution_count": 2,
   "metadata": {},
   "outputs": [],
   "source": [
    "headlines, descriptions, dates, authors, news, keywords, summaries, urls, image_urls = [], [], [], [], [], [], [], [], []"
   ]
  },
  {
   "cell_type": "markdown",
   "metadata": {},
   "source": [
    "## Google Search results urls related to Mumbai Mirror  Newspaper"
   ]
  },
  {
   "cell_type": "code",
   "execution_count": 3,
   "metadata": {},
   "outputs": [],
   "source": [
    "keyword = 'Alcoholic Anonymous site:mumbaimirror.indiatimes.com'\n",
    "\n",
    "url = 'https://www.google.com/search?q=' + '+'.join(keyword.split())\n",
    "\n",
    "options = Options()\n",
    "options.headless = True\n",
    "browser = webdriver.Chrome(options=options)\n",
    "browser.get(url)"
   ]
  },
  {
   "cell_type": "markdown",
   "metadata": {},
   "source": [
    "## Finding the total no.of.pages from Google Search Results and passing the value through the while loop"
   ]
  },
  {
   "cell_type": "code",
   "execution_count": 4,
   "metadata": {},
   "outputs": [
    {
     "name": "stdout",
     "output_type": "stream",
     "text": [
      "\r",
      "1 : 2\r"
     ]
    }
   ],
   "source": [
    "max_pages = round(16/10)\n",
    "time.sleep(1)\n",
    "index = 0\n",
    "\n",
    "while True:\n",
    "    index +=1\n",
    "    page = browser.page_source\n",
    "    soup = BeautifulSoup(page, 'lxml')\n",
    "    linky = [soup.select('.r')[i].a['href'] for i in range(len(soup.select('.r')))]\n",
    "    urls.extend(linky)\n",
    "    if index == max_pages:\n",
    "        break\n",
    "    browser.find_element_by_xpath('//*[@id=\"pnnext\"]/span[2]').click()\n",
    "    time.sleep(2)\n",
    "    sys.stdout.write('\\r' + str(index) + ' : ' + str(max_pages) + '\\r')\n",
    "    sys.stdout.flush()\n",
    "    \n",
    "browser.quit()"
   ]
  },
  {
   "cell_type": "markdown",
   "metadata": {},
   "source": [
    "## To remove duplicates urls entries in the list by executing below line"
   ]
  },
  {
   "cell_type": "code",
   "execution_count": null,
   "metadata": {},
   "outputs": [
    {
     "data": {
      "text/plain": [
       "16"
      ]
     },
     "execution_count": 5,
     "metadata": {},
     "output_type": "execute_result"
    }
   ],
   "source": [
    "urls = list(dict.fromkeys(urls))\n",
    "len(urls)"
   ]
  },
  {
   "cell_type": "markdown",
   "metadata": {},
   "source": [
    "## Scraping the Articles details from Mumbai Mirror Newspaper with the help of Newspaper"
   ]
  },
  {
   "cell_type": "code",
   "execution_count": null,
   "metadata": {},
   "outputs": [
    {
     "name": "stdout",
     "output_type": "stream",
     "text": [
      "3 : https://mumbaimirror.indiatimes.com/others/health-lifestyle/heartbreak-cure-why-you-need-to-celebrate-the-present/articleshow/52459350.cmsisfy-me-sexually-What-do-I-do/sexpertanswer.cms?cid=15414\r"
     ]
    }
   ],
   "source": [
    "%%time\n",
    "for index, url in enumerate(urls):\n",
    "    try:\n",
    "        # Parse the url to NewsPlease \n",
    "        article = Article(url)\n",
    "        article.download()\n",
    "        article.parse()\n",
    "\n",
    "        try:\n",
    "            # Extracts the Headlines \n",
    "            headlines.append(article.title)\n",
    "        except:\n",
    "            headlines.append(None)\n",
    "            \n",
    "        try:\n",
    "            # Extracts the Descriptions\n",
    "            descriptions.append(article.meta_description)\n",
    "        except:\n",
    "            descriptions.append(None)\n",
    "            \n",
    "        try:\n",
    "            # Extracts the Authors\n",
    "            authors.append(article.authors)\n",
    "        except:\n",
    "            authors.append(None)\n",
    "            \n",
    "        try:\n",
    "            # Extracts the published dates\n",
    "            dates.append(str(article.publish_date))\n",
    "        except:\n",
    "            dates.append(None)\n",
    "\n",
    "        try:\n",
    "            # Extracts the news articles\n",
    "            news.append(article.text)\n",
    "        except:\n",
    "            news.append(None)\n",
    "            \n",
    "        try:\n",
    "            # Extracts Keywords and Summaries\n",
    "            article.nlp()\n",
    "            keywords.append(article.keywords)\n",
    "            summaries.append(article.summary)\n",
    "        except:\n",
    "            keywords.append(None)\n",
    "            summaries.append(None)\n",
    "                    \n",
    "        try:\n",
    "            # Extracts the image urls\n",
    "            image_urls.append(article.top_image)\n",
    "        except:\n",
    "            image_urls.append(None)\n",
    "            \n",
    "    except:\n",
    "        headlines.append(None)\n",
    "        descriptions.append(None)\n",
    "        authors.append(None)\n",
    "        dates.append(None)\n",
    "        news.append(None)\n",
    "        keywords.append(None)\n",
    "        summaries.append(None)\n",
    "        image_urls.append(None)\n",
    "        \n",
    "\n",
    "    sys.stdout.write('\\r' + str(index) + ' : ' + str(url) + '\\r')\n",
    "    sys.stdout.flush()"
   ]
  },
  {
   "cell_type": "markdown",
   "metadata": {},
   "source": [
    "## Checking Array Length of each list to create DataFrame"
   ]
  },
  {
   "cell_type": "code",
   "execution_count": null,
   "metadata": {},
   "outputs": [],
   "source": [
    "print(len(headlines), len(descriptions), len(authors), len(dates), len(news), len(keywords), len(summaries), len(urls), len(image_urls))"
   ]
  },
  {
   "cell_type": "markdown",
   "metadata": {},
   "source": [
    "## Creating a csv file after checking array length"
   ]
  },
  {
   "cell_type": "code",
   "execution_count": null,
   "metadata": {},
   "outputs": [],
   "source": [
    "tbl = pd.DataFrame({'Headlines' : headlines,\n",
    "                    'Descriptions' : descriptions,\n",
    "                    'Authors' : authors,\n",
    "                    'Published_Dates' : dates, \n",
    "                    'Articles' : news,\n",
    "                    'Keywords' : keywords,\n",
    "                    'Summaries' : summaries,\n",
    "                    'Source_URLs' : urls,\n",
    "                    'Image_URLs' : image_urls})\n",
    "\n",
    "tbl.to_csv('Mumbai_Mirror.csv', index=False)"
   ]
  }
 ],
 "metadata": {
  "kernelspec": {
   "display_name": "Python 3",
   "language": "python",
   "name": "python3"
  },
  "language_info": {
   "codemirror_mode": {
    "name": "ipython",
    "version": 3
   },
   "file_extension": ".py",
   "mimetype": "text/x-python",
   "name": "python",
   "nbconvert_exporter": "python",
   "pygments_lexer": "ipython3",
   "version": "3.7.1"
  }
 },
 "nbformat": 4,
 "nbformat_minor": 2
}
