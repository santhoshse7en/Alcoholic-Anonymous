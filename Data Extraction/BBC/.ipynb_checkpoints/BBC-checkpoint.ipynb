{
 "cells": [
  {
   "cell_type": "markdown",
   "metadata": {},
   "source": [
    "# Alcholic Anonymous News articles extraction from BBC Newspaper\n",
    "\n",
    "## Importing the necessary Libraries"
   ]
  },
  {
   "cell_type": "code",
   "execution_count": 1,
   "metadata": {},
   "outputs": [],
   "source": [
    "from selenium.webdriver.chrome.options import Options # enables options in web browser\n",
    "from selenium import webdriver # web-based automation tool for Python\n",
    "from bs4 import BeautifulSoup # Python library for pulling data out of HTML and XML files\n",
    "from requests import get # standard for making HTTP requests in Python\n",
    "import pandas as pd # library written for data manipulation and analysis\n",
    "import sys, time #  System-specific parameters and functions\n",
    "import json #which can be used to work with JSON data"
   ]
  },
  {
   "cell_type": "markdown",
   "metadata": {},
   "source": [
    "## Lists for storing Alcholic Anonymous News Articles details"
   ]
  },
  {
   "cell_type": "code",
   "execution_count": 2,
   "metadata": {},
   "outputs": [],
   "source": [
    "headlines, descriptions, dates, authors, news, urls = [], [], [], [], [], []"
   ]
  },
  {
   "cell_type": "markdown",
   "metadata": {},
   "source": [
    "## Google Search results urls related to AA bbc.com"
   ]
  },
  {
   "cell_type": "code",
   "execution_count": 3,
   "metadata": {},
   "outputs": [
    {
     "name": "stdout",
     "output_type": "stream",
     "text": [
      "Wall time: 3.53 s\n"
     ]
    }
   ],
   "source": [
    "%%time\n",
    "keyword = 'Alcoholic Anonymous site:www.bbc.com' \n",
    "results = 167\n",
    "\n",
    "url = 'https://www.google.com/search?q=' + '+'.join(keyword.split())\n",
    "\n",
    "options = Options()\n",
    "options.headless = True\n",
    "browser = webdriver.Chrome(options=options)\n",
    "browser.get(url)"
   ]
  },
  {
   "cell_type": "markdown",
   "metadata": {},
   "source": [
    "## Iterate the google search results through the while loop"
   ]
  },
  {
   "cell_type": "code",
   "execution_count": 4,
   "metadata": {},
   "outputs": [
    {
     "name": "stdout",
     "output_type": "stream",
     "text": [
      "Wall time: 1min 22s\n"
     ]
    }
   ],
   "source": [
    "%%time\n",
    "max_pages = round(results/10)\n",
    "time.sleep(1)\n",
    "index = 0\n",
    "\n",
    "while True:\n",
    "    index +=1\n",
    "    page = browser.page_source\n",
    "    soup = BeautifulSoup(page, 'lxml')\n",
    "    linky = [soup.select('.r')[i].a['href'] for i in range(len(soup.select('.r')))]\n",
    "    urls.extend(linky)\n",
    "    if index == max_pages:\n",
    "        break\n",
    "    time.sleep(2)\n",
    "    browser.find_element_by_xpath('//*[@id=\"pnnext\"]/span[2]').click()\n",
    "    time.sleep(2)\n",
    "    sys.stdout.write('\\r' + str(index) + ' : ' + str(max_pages) + '\\r')\n",
    "    sys.stdout.flush()\n",
    "\n",
    "browser.quit()"
   ]
  },
  {
   "cell_type": "markdown",
   "metadata": {},
   "source": [
    "## Google Search results urls related to AA bbc.co.uk"
   ]
  },
  {
   "cell_type": "code",
   "execution_count": 5,
   "metadata": {},
   "outputs": [
    {
     "name": "stdout",
     "output_type": "stream",
     "text": [
      "Wall time: 3.91 s\n"
     ]
    }
   ],
   "source": [
    "%%time\n",
    "keyword = 'Alcoholic Anonymous site:www.bbc.co.uk'\n",
    "results = 237\n",
    "\n",
    "url = 'https://www.google.com/search?q=' + '+'.join(keyword.split())\n",
    "\n",
    "options = Options()\n",
    "options.headless = True\n",
    "browser = webdriver.Chrome(options=options)\n",
    "browser.get(url)"
   ]
  },
  {
   "cell_type": "markdown",
   "metadata": {},
   "source": [
    "## Iterate the google search results value through the while loop"
   ]
  },
  {
   "cell_type": "code",
   "execution_count": 6,
   "metadata": {},
   "outputs": [
    {
     "name": "stdout",
     "output_type": "stream",
     "text": [
      "Wall time: 1min 59s\n"
     ]
    }
   ],
   "source": [
    "%%time\n",
    "max_pages = round(results/10)\n",
    "time.sleep(1)\n",
    "index = 0\n",
    "\n",
    "while True:\n",
    "    index +=1\n",
    "    page = browser.page_source\n",
    "    soup = BeautifulSoup(page, 'lxml')\n",
    "    linky = [soup.select('.r')[i].a['href'] for i in range(len(soup.select('.r')))]\n",
    "    urls.extend(linky)\n",
    "    if index == max_pages:\n",
    "        break\n",
    "    time.sleep(2)\n",
    "    browser.find_element_by_xpath('//*[@id=\"pnnext\"]/span[2]').click()\n",
    "    time.sleep(2)\n",
    "    sys.stdout.write('\\r' + str(index) + ' : ' + str(max_pages) + '\\r')\n",
    "    sys.stdout.flush()\n",
    "    \n",
    "browser.quit()"
   ]
  },
  {
   "cell_type": "markdown",
   "metadata": {},
   "source": [
    "## Checking to remove duplicates urls entries in the list by executing below line"
   ]
  },
  {
   "cell_type": "code",
   "execution_count": 7,
   "metadata": {},
   "outputs": [
    {
     "name": "stdout",
     "output_type": "stream",
     "text": [
      "403 <class 'list'>\n"
     ]
    }
   ],
   "source": [
    "urls = list(dict.fromkeys(urls))\n",
    "print(len(urls), type(urls))"
   ]
  },
  {
   "cell_type": "markdown",
   "metadata": {},
   "source": [
    "## Scraping the Articles details from BBC Newspaper"
   ]
  },
  {
   "cell_type": "code",
   "execution_count": 8,
   "metadata": {},
   "outputs": [
    {
     "name": "stdout",
     "output_type": "stream",
     "text": [
      "Wall time: 16min 8sbc.co.uk/programmes/b05r7245s-18352179pool/003/05/comic_relief_your_jokes_feature.shtml10-march-19899ynd-gamblingnd_news\n"
     ]
    }
   ],
   "source": [
    "%%time\n",
    "for index, url in enumerate(urls):\n",
    "    try:\n",
    "        # Parse the url with help of BeautifulSoup4\n",
    "        soup = BeautifulSoup(get(url).text, 'lxml')\n",
    "        \n",
    "        try:\n",
    "            # Extracts the Headlines \n",
    "            headlines.append(soup.select_one('.story-body__h1').text.strip())\n",
    "        except:\n",
    "            headlines.append(None)\n",
    "            \n",
    "        try:\n",
    "            # Extracts the Descriptions\n",
    "            descriptions.append(soup.select_one('meta[name=\"description\"]')['content'].strip().replace('\\n', ' '))\n",
    "        except:\n",
    "            descriptions.append(None)\n",
    "            \n",
    "        try:\n",
    "            # Extracts the Authors\n",
    "            authors.append(json.loads(soup.select('script[type=\"application/ld+json\"]')[0].text)['author']['name'])\n",
    "        except:\n",
    "            authors.append(None)\n",
    "            \n",
    "        try:\n",
    "            # Extracts the published dates\n",
    "            dates.append(soup.select_one('.date')['data-datetime'])\n",
    "        except:\n",
    "            dates.append(None)\n",
    "\n",
    "        try:\n",
    "            # Extracts the news articles\n",
    "            para = soup.select_one('.story-body__inner').select('p')\n",
    "            text = ''.join(str(e.text.strip().replace('\\n', '').replace(\"[^a-zA-Z]\", \" \")) for e in para)\n",
    "            news.append(text)\n",
    "        except:\n",
    "            news.append(None)\n",
    "            \n",
    "    except:\n",
    "        headlines.append(None)\n",
    "        descriptions.append(None)\n",
    "        authors.append(None)\n",
    "        dates.append(None)\n",
    "        news.append(None)\n",
    "        \n",
    "    sys.stdout.write('\\r' + str(index) + ' : ' + str(url) + '\\r')\n",
    "    sys.stdout.flush()"
   ]
  },
  {
   "cell_type": "markdown",
   "metadata": {},
   "source": [
    "## Checking Array Length of each list to create DataFrame"
   ]
  },
  {
   "cell_type": "code",
   "execution_count": 9,
   "metadata": {},
   "outputs": [
    {
     "name": "stdout",
     "output_type": "stream",
     "text": [
      "403 403 403 403 403 403\n"
     ]
    }
   ],
   "source": [
    "print(len(headlines), len(descriptions), len(authors), len(dates), len(news), len(urls))"
   ]
  },
  {
   "cell_type": "markdown",
   "metadata": {},
   "source": [
    "## Creating a csv file after checking array length"
   ]
  },
  {
   "cell_type": "code",
   "execution_count": 10,
   "metadata": {},
   "outputs": [],
   "source": [
    "tbl = pd.DataFrame({'Headlines' : headlines,\n",
    "                    'Descriptions' : descriptions,\n",
    "                    'Authors' : authors,\n",
    "                    'Published_Dates' : dates, \n",
    "                    'Articles' : news})\n",
    "\n",
    "tbl.to_csv('BBC.csv', index=False)"
   ]
  }
 ],
 "metadata": {
  "kernelspec": {
   "display_name": "Python 3",
   "language": "python",
   "name": "python3"
  },
  "language_info": {
   "codemirror_mode": {
    "name": "ipython",
    "version": 3
   },
   "file_extension": ".py",
   "mimetype": "text/x-python",
   "name": "python",
   "nbconvert_exporter": "python",
   "pygments_lexer": "ipython3",
   "version": "3.7.1"
  }
 },
 "nbformat": 4,
 "nbformat_minor": 2
}
