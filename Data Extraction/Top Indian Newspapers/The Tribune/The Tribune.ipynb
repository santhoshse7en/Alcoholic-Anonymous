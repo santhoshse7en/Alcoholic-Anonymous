{
 "cells": [
  {
   "cell_type": "markdown",
   "metadata": {},
   "source": [
    "## Alcholic Anonymous News articles extraction from The Tribune. Data Extraction of following parameters\n",
    "- Headline\n",
    "- Description\n",
    "- Author\n",
    "- Published_Date\n",
    "- News\n",
    "- URL\n",
    "- Keywords\n",
    "- Summary\n",
    "\n",
    "### Importing the necessary Libraries"
   ]
  },
  {
   "cell_type": "code",
   "execution_count": 1,
   "metadata": {},
   "outputs": [],
   "source": [
    "from selenium.webdriver.chrome.options import Options # enables options in web browser\n",
    "from selenium import webdriver # web-based automation tool for Python\n",
    "from newspaper import Article # Article scraping & curation\n",
    "from bs4 import BeautifulSoup # Python library for pulling data out of HTML and XML files\n",
    "from requests import get # standard for making HTTP requests in Python\n",
    "import pandas as pd # library written for data manipulation and analysis\n",
    "import sys, time #  System-specific parameters and functions"
   ]
  },
  {
   "cell_type": "markdown",
   "metadata": {},
   "source": [
    "### Creating Empty lists for Alcholic Anonymous News Articles parameters data to be extracted"
   ]
  },
  {
   "cell_type": "code",
   "execution_count": 2,
   "metadata": {},
   "outputs": [],
   "source": [
    "headlines, descriptions, dates, authors, news, keywords, summaries, urls = [], [], [], [], [], [], [], []"
   ]
  },
  {
   "cell_type": "markdown",
   "metadata": {},
   "source": [
    "### Finding the total no.of.pages by total no.of articles from google search results¶"
   ]
  },
  {
   "cell_type": "code",
   "execution_count": 3,
   "metadata": {},
   "outputs": [],
   "source": [
    "keyword = 'Alcoholics Anonymous site:www.tribuneindia.com'\n",
    "\n",
    "url = 'https://www.google.com/search?q=' + '+'.join(keyword.split())\n",
    "\n",
    "options = Options()\n",
    "options.headless = True\n",
    "browser = webdriver.Chrome(options=options)\n",
    "browser.get(url)\n",
    "\n",
    "page = browser.page_source\n",
    "soup = BeautifulSoup(page, 'lxml')\n",
    "max_pages = round([int(s) for s in soup.select_one('#resultStats').text.split() if s.isdigit()][0]/10)"
   ]
  },
  {
   "cell_type": "markdown",
   "metadata": {},
   "source": [
    "### Iterates max_pages value through while loop. Scraping the Articles urls"
   ]
  },
  {
   "cell_type": "code",
   "execution_count": 4,
   "metadata": {},
   "outputs": [
    {
     "name": "stdout",
     "output_type": "stream",
     "text": [
      "17 : 34\r"
     ]
    }
   ],
   "source": [
    "index = 0\n",
    "\n",
    "while True:\n",
    "    try:\n",
    "        index +=1\n",
    "        page = browser.page_source\n",
    "        soup = BeautifulSoup(page, 'lxml')\n",
    "        linky = [soup.select('.r')[i].a['href'] for i in range(len(soup.select('.r')))]\n",
    "        urls.extend(linky)\n",
    "        if index == max_pages:\n",
    "            break\n",
    "        browser.find_element_by_xpath('//*[@id=\"pnnext\"]/span[2]').click()\n",
    "        time.sleep(2)\n",
    "        sys.stdout.write('\\r' + str(index) + ' : ' + str(max_pages) + '\\r')\n",
    "        sys.stdout.flush()\n",
    "    except:\n",
    "        pass\n",
    "    \n",
    "browser.quit()"
   ]
  },
  {
   "cell_type": "markdown",
   "metadata": {},
   "source": [
    "### To remove duplicates urls entries in the list by executing below line"
   ]
  },
  {
   "cell_type": "code",
   "execution_count": 5,
   "metadata": {},
   "outputs": [
    {
     "name": "stdout",
     "output_type": "stream",
     "text": [
      "172 <class 'list'>\n"
     ]
    }
   ],
   "source": [
    "urls = list(dict.fromkeys(urls))\n",
    "print(len(urls), type(urls))"
   ]
  },
  {
   "cell_type": "markdown",
   "metadata": {},
   "source": [
    "### Iterates urls through for loop. Scraping the Articles with above parameters"
   ]
  },
  {
   "cell_type": "code",
   "execution_count": 6,
   "metadata": {},
   "outputs": [
    {
     "name": "stdout",
     "output_type": "stream",
     "text": [
      "Wall time: 17min 29sibuneindia.com/2014/20140408/dun.htmpmanship/276411.htmlverdict-on-panamagate-today/394557.html406505.htmlml/619408.html\n"
     ]
    }
   ],
   "source": [
    "%%time\n",
    "for index, url in enumerate(urls):\n",
    "    try:\n",
    "        # Parse the url to NewsPlease \n",
    "        soup = BeautifulSoup(get(url).text, 'lxml')\n",
    "        article = Article(url)\n",
    "        article.download()\n",
    "        article.parse()\n",
    "        article.nlp()\n",
    "        \n",
    "        # Extracts the Headlines\n",
    "        try:\n",
    "            try:\n",
    "                headlines.append(article.title.strip())\n",
    "            except:\n",
    "                headlines.append(soup.select_one('meta[property=\"og:title\"]')['content'].strip())\n",
    "        except:\n",
    "            headlines.append(None)\n",
    "            \n",
    "        # Extracts the Descriptions    \n",
    "        try:\n",
    "            try:\n",
    "                descriptions.append(soup.select_one('meta[property=\"og:description\"]')['content'].strip().replace('\\n', ' '))\n",
    "            except:\n",
    "                descriptions.append(article.meta_description.strip())\n",
    "        except:\n",
    "            descriptions.append(None)\n",
    "            \n",
    "        # Extracts the Authors\n",
    "        try:\n",
    "            try:\n",
    "                authors.append(soup.select_one('meta[name=\"author\"]')['content'].strip())\n",
    "            except:\n",
    "                authors.append(article.authors.strip())\n",
    "        except:\n",
    "            authors.append(None)\n",
    "        \n",
    "        # Extracts the published dates\n",
    "        try:\n",
    "            try:\n",
    "                dates.append(soup.select_one('meta[property=\"article:published_time\"]')['content'].strip())\n",
    "            except:\n",
    "                dates.append(str(article.publish_date))\n",
    "        except:\n",
    "            dates.append(None)\n",
    "            \n",
    "        # Extracts the news articles\n",
    "        try:\n",
    "            try:\n",
    "                news.append(soup.select_one('.storyText').text.replace('\\n', '').strip())\n",
    "            except:\n",
    "                news.append(article.text.strip())\n",
    "        except:\n",
    "            news.append(None)\n",
    "            \n",
    "        # Extracts Keywords and Summaries    \n",
    "        try:\n",
    "            keywords.append(article.keywords)\n",
    "            summaries.append(article.summary)\n",
    "        except:\n",
    "            keywords.append(None)\n",
    "            summaries.append(None)\n",
    "            \n",
    "    except:\n",
    "        headlines.append(None)\n",
    "        descriptions.append(None)\n",
    "        authors.append(None)\n",
    "        dates.append(None)\n",
    "        news.append(None)\n",
    "        keywords.append(None)\n",
    "        summaries.append(None)\n",
    "\n",
    "    sys.stdout.write('\\r' + str(index) + ' : ' + str(url) + '\\r')\n",
    "    sys.stdout.flush()"
   ]
  },
  {
   "cell_type": "markdown",
   "metadata": {},
   "source": [
    "### Checking Array Length of each list to create DataFrame"
   ]
  },
  {
   "cell_type": "code",
   "execution_count": 7,
   "metadata": {},
   "outputs": [
    {
     "name": "stdout",
     "output_type": "stream",
     "text": [
      "172 172 172 172 172 172 172 172\n"
     ]
    }
   ],
   "source": [
    "print(len(headlines), len(descriptions), len(authors), len(dates), len(news), len(keywords), len(summaries), len(urls))"
   ]
  },
  {
   "cell_type": "markdown",
   "metadata": {},
   "source": [
    "### Creating a csv file after checking array length and droping the missing values from the dataset"
   ]
  },
  {
   "cell_type": "code",
   "execution_count": 8,
   "metadata": {},
   "outputs": [
    {
     "data": {
      "text/html": [
       "<div>\n",
       "<style scoped>\n",
       "    .dataframe tbody tr th:only-of-type {\n",
       "        vertical-align: middle;\n",
       "    }\n",
       "\n",
       "    .dataframe tbody tr th {\n",
       "        vertical-align: top;\n",
       "    }\n",
       "\n",
       "    .dataframe thead th {\n",
       "        text-align: right;\n",
       "    }\n",
       "</style>\n",
       "<table border=\"1\" class=\"dataframe\">\n",
       "  <thead>\n",
       "    <tr style=\"text-align: right;\">\n",
       "      <th></th>\n",
       "      <th>Headlines</th>\n",
       "      <th>Descriptions</th>\n",
       "      <th>Authors</th>\n",
       "      <th>Published_Dates</th>\n",
       "      <th>Articles</th>\n",
       "      <th>Keywords</th>\n",
       "      <th>Summaries</th>\n",
       "    </tr>\n",
       "  </thead>\n",
       "  <tbody>\n",
       "    <tr>\n",
       "      <th>0</th>\n",
       "      <td>Hope for alcoholics through AA: Experts</td>\n",
       "      <td>CHANDIGARH: There is a hope for hopeless alcoh...</td>\n",
       "      <td>Tribune News Service</td>\n",
       "      <td>2016-08-09T02:36:00</td>\n",
       "      <td>Chandigarh, August 8There is a hope for hopele...</td>\n",
       "      <td>[chandigarh, wanting, aa, fraternity, medical,...</td>\n",
       "      <td>Chandigarh, August 8There is a hope for hopele...</td>\n",
       "    </tr>\n",
       "    <tr>\n",
       "      <th>1</th>\n",
       "      <td>When she hits the bottle...</td>\n",
       "      <td>Today, globally India shows the third largest ...</td>\n",
       "      <td>Tribune News Service</td>\n",
       "      <td>2016-07-31T00:58:00</td>\n",
       "      <td>Linda Chhakchhuak\\rToday, globally India shows...</td>\n",
       "      <td>[bottle, alcoholic, come, alcoholism, aa, aai,...</td>\n",
       "      <td>Indeed, leading brands are not hesitant to con...</td>\n",
       "    </tr>\n",
       "    <tr>\n",
       "      <th>3</th>\n",
       "      <td>Raising a toast to life</td>\n",
       "      <td>How about a life beyond Patiala peg! For those...</td>\n",
       "      <td>Tribune News Service</td>\n",
       "      <td>2017-05-04T02:27:00</td>\n",
       "      <td>Pradeep SharmaHow about a life beyond Patiala ...</td>\n",
       "      <td>[raising, toast, wanting, aa, problem, fellows...</td>\n",
       "      <td>The AA, which has a worldwide fellowship of ov...</td>\n",
       "    </tr>\n",
       "    <tr>\n",
       "      <th>4</th>\n",
       "      <td>Poor me, don’t pour that drink...</td>\n",
       "      <td>AAP MP Bhagwant Mann put alcohol right, left, ...</td>\n",
       "      <td></td>\n",
       "      <td>2019-02-04T06:37:00</td>\n",
       "      <td>Lakhinder Jit Singh Vohra\\rAAP MP Bhagwant Man...</td>\n",
       "      <td>[family, alcoholic, drink, professional, tough...</td>\n",
       "      <td>My date of sobriety, as it is called in Alcoho...</td>\n",
       "    </tr>\n",
       "    <tr>\n",
       "      <th>5</th>\n",
       "      <td>Want to quit drinking? Walk into AA special me...</td>\n",
       "      <td>PANCHKULA: The Alcoholics Anonymous (AA), a wo...</td>\n",
       "      <td>Tribune News Service</td>\n",
       "      <td>2016-05-22T02:29:00</td>\n",
       "      <td>Tribune News ServicePanchkula, May 21The Alcoh...</td>\n",
       "      <td>[quit, group, special, experiences, aa, walk, ...</td>\n",
       "      <td>The AA members would share their experiences, ...</td>\n",
       "    </tr>\n",
       "  </tbody>\n",
       "</table>\n",
       "</div>"
      ],
      "text/plain": [
       "                                           Headlines  \\\n",
       "0            Hope for alcoholics through AA: Experts   \n",
       "1                        When she hits the bottle...   \n",
       "3                            Raising a toast to life   \n",
       "4                  Poor me, don’t pour that drink...   \n",
       "5  Want to quit drinking? Walk into AA special me...   \n",
       "\n",
       "                                        Descriptions               Authors  \\\n",
       "0  CHANDIGARH: There is a hope for hopeless alcoh...  Tribune News Service   \n",
       "1  Today, globally India shows the third largest ...  Tribune News Service   \n",
       "3  How about a life beyond Patiala peg! For those...  Tribune News Service   \n",
       "4  AAP MP Bhagwant Mann put alcohol right, left, ...                         \n",
       "5  PANCHKULA: The Alcoholics Anonymous (AA), a wo...  Tribune News Service   \n",
       "\n",
       "       Published_Dates                                           Articles  \\\n",
       "0  2016-08-09T02:36:00  Chandigarh, August 8There is a hope for hopele...   \n",
       "1  2016-07-31T00:58:00  Linda Chhakchhuak\\rToday, globally India shows...   \n",
       "3  2017-05-04T02:27:00  Pradeep SharmaHow about a life beyond Patiala ...   \n",
       "4  2019-02-04T06:37:00  Lakhinder Jit Singh Vohra\\rAAP MP Bhagwant Man...   \n",
       "5  2016-05-22T02:29:00  Tribune News ServicePanchkula, May 21The Alcoh...   \n",
       "\n",
       "                                            Keywords  \\\n",
       "0  [chandigarh, wanting, aa, fraternity, medical,...   \n",
       "1  [bottle, alcoholic, come, alcoholism, aa, aai,...   \n",
       "3  [raising, toast, wanting, aa, problem, fellows...   \n",
       "4  [family, alcoholic, drink, professional, tough...   \n",
       "5  [quit, group, special, experiences, aa, walk, ...   \n",
       "\n",
       "                                           Summaries  \n",
       "0  Chandigarh, August 8There is a hope for hopele...  \n",
       "1  Indeed, leading brands are not hesitant to con...  \n",
       "3  The AA, which has a worldwide fellowship of ov...  \n",
       "4  My date of sobriety, as it is called in Alcoho...  \n",
       "5  The AA members would share their experiences, ...  "
      ]
     },
     "execution_count": 8,
     "metadata": {},
     "output_type": "execute_result"
    }
   ],
   "source": [
    "tbl = pd.DataFrame({'Headlines' : headlines,\n",
    "                    'Descriptions' : descriptions,\n",
    "                    'Authors' : authors,\n",
    "                    'Published_Dates' : dates, \n",
    "                    'Articles' : news,\n",
    "                    'Keywords' : keywords,\n",
    "                    'Summaries' : summaries,})\n",
    "tbl = tbl.dropna()\n",
    "tbl.to_csv('The_Tribune.csv', index=False)\n",
    "tbl.head()"
   ]
  }
 ],
 "metadata": {
  "kernelspec": {
   "display_name": "Python 3",
   "language": "python",
   "name": "python3"
  },
  "language_info": {
   "codemirror_mode": {
    "name": "ipython",
    "version": 3
   },
   "file_extension": ".py",
   "mimetype": "text/x-python",
   "name": "python",
   "nbconvert_exporter": "python",
   "pygments_lexer": "ipython3",
   "version": "3.7.1"
  }
 },
 "nbformat": 4,
 "nbformat_minor": 2
}
