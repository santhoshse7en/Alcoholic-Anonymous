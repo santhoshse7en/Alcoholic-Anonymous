{
 "cells": [
  {
   "cell_type": "code",
   "execution_count": 1,
   "metadata": {},
   "outputs": [],
   "source": [
    "from newsplease import NewsPlease # An integrated web crawler and information extractor for news \n",
    "from bs4 import BeautifulSoup # Python library for pulling data out of HTML and XML files\n",
    "from requests import get # standard for making HTTP requests in Python\n",
    "import pandas as pd # library written for data manipulation and analysis\n",
    "import sys #  System-specific parameters and functions"
   ]
  },
  {
   "cell_type": "code",
   "execution_count": 2,
   "metadata": {},
   "outputs": [],
   "source": [
    "url = 'https://www.thehindu.com/search/?q=Alcoholic%20Anonymous&order=DESC&sort=publishdate&ct=text&s=todays-paper'\n",
    "response = get(url)\n",
    "soup = BeautifulSoup(response.text, 'lxml')\n",
    "\n",
    "# for collecting the total number of article\n",
    "article_count = int(''.join(i for i in soup.select_one('.section-controls').span.text.split('of')[1] if i.isdigit()))\n",
    "\n",
    "# to find the no.of pages\n",
    "max_pages = int((int(article_count)//12) + 2)"
   ]
  },
  {
   "cell_type": "code",
   "execution_count": 3,
   "metadata": {},
   "outputs": [
    {
     "name": "stdout",
     "output_type": "stream",
     "text": [
      "884 : 885Wall time: 26min 21s\n"
     ]
    }
   ],
   "source": [
    "%%time\n",
    "headlines, urls, dates, authors, sections = [], [], [], [], []\n",
    "\n",
    "for index, i in enumerate(range(1, max_pages)):    \n",
    "    url = 'https://www.thehindu.com/search/?q=Alcoholic%20Anonymous&order=DESC&sort=publishdate&ct=text&s=todays-paper&page=' + str(i)\n",
    "    response = get(url)\n",
    "    soup = BeautifulSoup(response.text, 'lxml')\n",
    "    \n",
    "    # Extracts url's \n",
    "    url = [soup.select('a.story-card75x1-text')[i]['href'] for i in range(len(soup.select('a.story-card75x1-text')))]\n",
    "    urls.extend(url)\n",
    "    \n",
    "    # Extracts headline's\n",
    "    headline = [soup.select('.story-card75x1-text')[i].text.strip() for i in range(len(soup.select('.section-name')))]\n",
    "    headlines.extend(headline)\n",
    "    \n",
    "    # Extracts author's \n",
    "    for i in range(len(soup.select('.story-card-news'))):\n",
    "        try:\n",
    "            authors.append(soup.select('.story-card-news')[i].select_one('.story-card-33-author-name').text.strip())\n",
    "        except:\n",
    "            authors.append(None)\n",
    "    \n",
    "    # Extracts Date's\n",
    "    date = [soup.select('.dateline')[i].text.strip() for i in range(len(soup.select('.dateline')))]\n",
    "    dates.extend(date)\n",
    "    \n",
    "    # Extracts section's\n",
    "    section = [soup.select('.section-name')[i].text.strip() for i in range(len(soup.select('.section-name')))]\n",
    "    sections.extend(section)\n",
    "    \n",
    "    sys.stdout.write('\\r' + str(index) + ' : ' + str(max_pages))\n",
    "    sys.stdout.flush()"
   ]
  },
  {
   "cell_type": "code",
   "execution_count": 4,
   "metadata": {},
   "outputs": [
    {
     "name": "stdout",
     "output_type": "stream",
     "text": [
      "Wall time: 7h 35min 54shindu.com/todays-paper/tp-miscellaneous/in-madurai-today/article3233838.ece3235280.ece46450.ece9.ecece212951.ecele3048267.ece7569.eceecece74.ece\n"
     ]
    }
   ],
   "source": [
    "%%time\n",
    "meetings, news = [], []\n",
    "\n",
    "for index, url in enumerate(urls):\n",
    "    try:\n",
    "        # Parse the url to NewsPlease \n",
    "        article = NewsPlease.from_url(url, timeout=6)\n",
    "\n",
    "        try:\n",
    "            # Extracts the Headlines \n",
    "            news.append(article.text)\n",
    "        except:\n",
    "            news.append(None)\n",
    "\n",
    "        try:\n",
    "            # Extracts the AA meetings if available\n",
    "            meetings.append(article.text.split('Alcoholics')[-1])\n",
    "        except:\n",
    "            meetings.append(None)\n",
    "            \n",
    "    except:\n",
    "            news.append(None)\n",
    "            meetings.append(None)\n",
    "        \n",
    "\n",
    "    sys.stdout.write('\\r' + str(index) + ' : ' + str(url) + '\\r')\n",
    "    sys.stdout.flush()"
   ]
  },
  {
   "cell_type": "code",
   "execution_count": 6,
   "metadata": {},
   "outputs": [
    {
     "name": "stdout",
     "output_type": "stream",
     "text": [
      "10616 10616 10616 10616 10616 10616 10616\n"
     ]
    }
   ],
   "source": [
    "print(len(headlines), len(meetings), len(authors), len(dates), len(sections), len(news), len(urls))"
   ]
  },
  {
   "cell_type": "code",
   "execution_count": 7,
   "metadata": {},
   "outputs": [
    {
     "data": {
      "text/html": [
       "<div>\n",
       "<style scoped>\n",
       "    .dataframe tbody tr th:only-of-type {\n",
       "        vertical-align: middle;\n",
       "    }\n",
       "\n",
       "    .dataframe tbody tr th {\n",
       "        vertical-align: top;\n",
       "    }\n",
       "\n",
       "    .dataframe thead th {\n",
       "        text-align: right;\n",
       "    }\n",
       "</style>\n",
       "<table border=\"1\" class=\"dataframe\">\n",
       "  <thead>\n",
       "    <tr style=\"text-align: right;\">\n",
       "      <th></th>\n",
       "      <th>Headline</th>\n",
       "      <th>Author</th>\n",
       "      <th>Published_Region</th>\n",
       "      <th>Published_Date</th>\n",
       "      <th>Meetings</th>\n",
       "      <th>Main_Article</th>\n",
       "      <th>Source_urls</th>\n",
       "    </tr>\n",
       "  </thead>\n",
       "  <tbody>\n",
       "    <tr>\n",
       "      <th>0</th>\n",
       "      <td>Madurai Today</td>\n",
       "      <td>Special Correspondent</td>\n",
       "      <td>TAMIL NADU</td>\n",
       "      <td>April 14, 2019</td>\n",
       "      <td>Anonymous: Meeting; U. C. Higher Secondary Sc...</td>\n",
       "      <td>RELIGION\\nSelva Vinayagar Temple: Panchangam r...</td>\n",
       "      <td>https://www.thehindu.com/todays-paper/tp-natio...</td>\n",
       "    </tr>\n",
       "    <tr>\n",
       "      <th>1</th>\n",
       "      <td>Madurai Today</td>\n",
       "      <td>Special Correspondent</td>\n",
       "      <td>TAMIL NADU</td>\n",
       "      <td>April 13, 2019</td>\n",
       "      <td>Anonymous: Meeting; Ahana Hospital, Anna Bus ...</td>\n",
       "      <td>RELIGION\\nMeenakshi Sundareswarar Temple: Chit...</td>\n",
       "      <td>https://www.thehindu.com/todays-paper/tp-natio...</td>\n",
       "    </tr>\n",
       "    <tr>\n",
       "      <th>2</th>\n",
       "      <td>Engagements</td>\n",
       "      <td></td>\n",
       "      <td>TAMIL NADU</td>\n",
       "      <td>April 13, 2019</td>\n",
       "      <td>None</td>\n",
       "      <td>None</td>\n",
       "      <td>https://www.thehindu.com/todays-paper/tp-natio...</td>\n",
       "    </tr>\n",
       "    <tr>\n",
       "      <th>3</th>\n",
       "      <td>Madurai Today</td>\n",
       "      <td></td>\n",
       "      <td>TAMIL NADU</td>\n",
       "      <td>April 12, 2019</td>\n",
       "      <td>Anonymous: Meeting; Tamilarasi School, Melur,...</td>\n",
       "      <td>RELIGION\\nMeenakshi Sundareswarar Temple: Chit...</td>\n",
       "      <td>https://www.thehindu.com/todays-paper/tp-natio...</td>\n",
       "    </tr>\n",
       "    <tr>\n",
       "      <th>4</th>\n",
       "      <td>engagements</td>\n",
       "      <td></td>\n",
       "      <td>TAMIL NADU</td>\n",
       "      <td>April 12, 2019</td>\n",
       "      <td>None</td>\n",
       "      <td>None</td>\n",
       "      <td>https://www.thehindu.com/todays-paper/tp-natio...</td>\n",
       "    </tr>\n",
       "  </tbody>\n",
       "</table>\n",
       "</div>"
      ],
      "text/plain": [
       "        Headline                 Author Published_Region  Published_Date  \\\n",
       "0  Madurai Today  Special Correspondent       TAMIL NADU  April 14, 2019   \n",
       "1  Madurai Today  Special Correspondent       TAMIL NADU  April 13, 2019   \n",
       "2    Engagements                              TAMIL NADU  April 13, 2019   \n",
       "3  Madurai Today                              TAMIL NADU  April 12, 2019   \n",
       "4    engagements                              TAMIL NADU  April 12, 2019   \n",
       "\n",
       "                                            Meetings  \\\n",
       "0   Anonymous: Meeting; U. C. Higher Secondary Sc...   \n",
       "1   Anonymous: Meeting; Ahana Hospital, Anna Bus ...   \n",
       "2                                               None   \n",
       "3   Anonymous: Meeting; Tamilarasi School, Melur,...   \n",
       "4                                               None   \n",
       "\n",
       "                                        Main_Article  \\\n",
       "0  RELIGION\\nSelva Vinayagar Temple: Panchangam r...   \n",
       "1  RELIGION\\nMeenakshi Sundareswarar Temple: Chit...   \n",
       "2                                               None   \n",
       "3  RELIGION\\nMeenakshi Sundareswarar Temple: Chit...   \n",
       "4                                               None   \n",
       "\n",
       "                                         Source_urls  \n",
       "0  https://www.thehindu.com/todays-paper/tp-natio...  \n",
       "1  https://www.thehindu.com/todays-paper/tp-natio...  \n",
       "2  https://www.thehindu.com/todays-paper/tp-natio...  \n",
       "3  https://www.thehindu.com/todays-paper/tp-natio...  \n",
       "4  https://www.thehindu.com/todays-paper/tp-natio...  "
      ]
     },
     "execution_count": 7,
     "metadata": {},
     "output_type": "execute_result"
    }
   ],
   "source": [
    "tbl = pd.DataFrame({'Headline' : headlines,\n",
    "                    'Author' : authors,\n",
    "                    'Published_Region' : sections,\n",
    "                    'Published_Date' : dates, \n",
    "                    'Meetings' : meetings, \n",
    "                    'Main_Article' : news,\n",
    "                    'Source_urls' : urls})\n",
    "tbl.head()"
   ]
  },
  {
   "cell_type": "code",
   "execution_count": 8,
   "metadata": {},
   "outputs": [],
   "source": [
    "tbl.to_excel('The_Hindu_AA_Meetings.xls', index=False)\n",
    "tbl.to_csv('The_Hindu_AA_Meetings.csv', index=False)"
   ]
  }
 ],
 "metadata": {
  "kernelspec": {
   "display_name": "Python 3",
   "language": "python",
   "name": "python3"
  },
  "language_info": {
   "codemirror_mode": {
    "name": "ipython",
    "version": 3
   },
   "file_extension": ".py",
   "mimetype": "text/x-python",
   "name": "python",
   "nbconvert_exporter": "python",
   "pygments_lexer": "ipython3",
   "version": "3.7.1"
  }
 },
 "nbformat": 4,
 "nbformat_minor": 2
}
