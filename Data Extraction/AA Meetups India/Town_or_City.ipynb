{
 "cells": [
  {
   "cell_type": "code",
   "execution_count": 1,
   "metadata": {},
   "outputs": [],
   "source": [
    "from selenium.webdriver.chrome.options import Options\n",
    "from bs4 import BeautifulSoup\n",
    "from selenium import webdriver\n",
    "import chromedriver_binary\n",
    "import pandas as pd\n",
    "import time, sys"
   ]
  },
  {
   "cell_type": "code",
   "execution_count": 2,
   "metadata": {},
   "outputs": [],
   "source": [
    "url = 'https://www.aawmig.org/aa-meetings/all-india-aa-meetings/'\n",
    "\n",
    "driver = webdriver.Chrome()\n",
    "driver.get(url)"
   ]
  },
  {
   "cell_type": "code",
   "execution_count": 3,
   "metadata": {},
   "outputs": [],
   "source": [
    "count = driver.find_element_by_css_selector('#tablepress-3_info')\n",
    "total_entries = round(int(''.join(i for i in count.text.split('of')[-1] if i.isdigit()))/10)"
   ]
  },
  {
   "cell_type": "code",
   "execution_count": 4,
   "metadata": {},
   "outputs": [
    {
     "name": "stdout",
     "output_type": "stream",
     "text": [
      "165 : 165\r"
     ]
    }
   ],
   "source": [
    "cities = []\n",
    "\n",
    "index = 0\n",
    "\n",
    "while True:\n",
    "    \n",
    "    index +=1\n",
    "    driver.find_element_by_css_selector('#tablepress-3_next').click()\n",
    "    soup = BeautifulSoup(driver.page_source, 'lxml')\n",
    "\n",
    "    table = soup.select_one('.row-hover')\n",
    "    loc_col = table.select('.column-3')\n",
    "\n",
    "    city = [item.text.strip() for item in loc_col]\n",
    "    cities.extend(city)\n",
    "    \n",
    "    sys.stdout.write('\\r' + str(index) + \" : \" + str(total_entries) + '\\r')\n",
    "    sys.stdout.flush()\n",
    "    \n",
    "    if index == total_entries:\n",
    "        break"
   ]
  },
  {
   "cell_type": "code",
   "execution_count": 5,
   "metadata": {},
   "outputs": [
    {
     "data": {
      "text/plain": [
       "441"
      ]
     },
     "execution_count": 5,
     "metadata": {},
     "output_type": "execute_result"
    }
   ],
   "source": [
    "cities = list(dict.fromkeys(cities))\n",
    "len(cities)"
   ]
  },
  {
   "cell_type": "code",
   "execution_count": 6,
   "metadata": {},
   "outputs": [],
   "source": [
    "df = pd.DataFrame({'Town / City' : cities})\n",
    "df.to_csv('Town_or_City.csv', index=False)"
   ]
  },
  {
   "cell_type": "code",
   "execution_count": null,
   "metadata": {},
   "outputs": [],
   "source": []
  }
 ],
 "metadata": {
  "kernelspec": {
   "display_name": "Python 3",
   "language": "python",
   "name": "python3"
  },
  "language_info": {
   "codemirror_mode": {
    "name": "ipython",
    "version": 3
   },
   "file_extension": ".py",
   "mimetype": "text/x-python",
   "name": "python",
   "nbconvert_exporter": "python",
   "pygments_lexer": "ipython3",
   "version": "3.7.3"
  }
 },
 "nbformat": 4,
 "nbformat_minor": 2
}
