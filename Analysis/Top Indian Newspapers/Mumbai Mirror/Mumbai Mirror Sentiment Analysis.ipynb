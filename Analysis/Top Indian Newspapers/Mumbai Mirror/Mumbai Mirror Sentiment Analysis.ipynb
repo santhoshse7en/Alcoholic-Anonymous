{
 "cells": [
  {
   "cell_type": "markdown",
   "metadata": {},
   "source": [
    "## Mumbai Mirror Sentiment Analysis\n",
    "### Installing necessary python packages"
   ]
  },
  {
   "cell_type": "markdown",
   "metadata": {},
   "source": [
    "!pip install pandas\n",
    "!pip install vaderSentiment"
   ]
  },
  {
   "cell_type": "markdown",
   "metadata": {},
   "source": [
    "### Importing the installed Libraries"
   ]
  },
  {
   "cell_type": "code",
   "execution_count": 1,
   "metadata": {},
   "outputs": [],
   "source": [
    "from vaderSentiment.vaderSentiment import SentimentIntensityAnalyzer\n",
    "import pandas as pd\n",
    "import re"
   ]
  },
  {
   "cell_type": "markdown",
   "metadata": {},
   "source": [
    "### Reading Mumbai Mirror AA News Dataset and droping the missing values & some columns from the dataset. "
   ]
  },
  {
   "cell_type": "code",
   "execution_count": 2,
   "metadata": {},
   "outputs": [
    {
     "data": {
      "text/html": [
       "<div>\n",
       "<style scoped>\n",
       "    .dataframe tbody tr th:only-of-type {\n",
       "        vertical-align: middle;\n",
       "    }\n",
       "\n",
       "    .dataframe tbody tr th {\n",
       "        vertical-align: top;\n",
       "    }\n",
       "\n",
       "    .dataframe thead th {\n",
       "        text-align: right;\n",
       "    }\n",
       "</style>\n",
       "<table border=\"1\" class=\"dataframe\">\n",
       "  <thead>\n",
       "    <tr style=\"text-align: right;\">\n",
       "      <th></th>\n",
       "      <th>Articles</th>\n",
       "    </tr>\n",
       "  </thead>\n",
       "  <tbody>\n",
       "    <tr>\n",
       "      <th>0</th>\n",
       "      <td>Alcoholics Anonymous\\r\\n\\r\\nHelen Keller\\r\\n\\r...</td>\n",
       "    </tr>\n",
       "    <tr>\n",
       "      <th>1</th>\n",
       "      <td>Love is like a drug — romantic love causes cha...</td>\n",
       "    </tr>\n",
       "    <tr>\n",
       "      <th>2</th>\n",
       "      <td>This refers to 'CP set to reassign 250 alcohol...</td>\n",
       "    </tr>\n",
       "    <tr>\n",
       "      <th>3</th>\n",
       "      <td>motivating talk: The AA members explained the ...</td>\n",
       "    </tr>\n",
       "    <tr>\n",
       "      <th>4</th>\n",
       "      <td>A Father’s healing touch\\r\\n\\r\\nFather Joseph ...</td>\n",
       "    </tr>\n",
       "  </tbody>\n",
       "</table>\n",
       "</div>"
      ],
      "text/plain": [
       "                                            Articles\n",
       "0  Alcoholics Anonymous\\r\\n\\r\\nHelen Keller\\r\\n\\r...\n",
       "1  Love is like a drug — romantic love causes cha...\n",
       "2  This refers to 'CP set to reassign 250 alcohol...\n",
       "3  motivating talk: The AA members explained the ...\n",
       "4  A Father’s healing touch\\r\\n\\r\\nFather Joseph ..."
      ]
     },
     "execution_count": 2,
     "metadata": {},
     "output_type": "execute_result"
    }
   ],
   "source": [
    "data = pd.read_csv('Mumbai Mirror.csv')\n",
    "data = data.drop(['Headlines', 'Descriptions', 'Authors', 'Published_Dates', 'Summaries', 'Keywords'], axis=1).dropna().reset_index(drop=True)\n",
    "data.head()"
   ]
  },
  {
   "cell_type": "markdown",
   "metadata": {},
   "source": [
    "### cleaning each article "
   ]
  },
  {
   "cell_type": "code",
   "execution_count": 3,
   "metadata": {},
   "outputs": [
    {
     "data": {
      "text/html": [
       "<div>\n",
       "<style scoped>\n",
       "    .dataframe tbody tr th:only-of-type {\n",
       "        vertical-align: middle;\n",
       "    }\n",
       "\n",
       "    .dataframe tbody tr th {\n",
       "        vertical-align: top;\n",
       "    }\n",
       "\n",
       "    .dataframe thead th {\n",
       "        text-align: right;\n",
       "    }\n",
       "</style>\n",
       "<table border=\"1\" class=\"dataframe\">\n",
       "  <thead>\n",
       "    <tr style=\"text-align: right;\">\n",
       "      <th></th>\n",
       "      <th>Cleaned_Articles</th>\n",
       "    </tr>\n",
       "  </thead>\n",
       "  <tbody>\n",
       "    <tr>\n",
       "      <th>0</th>\n",
       "      <td>alcoholics anonymous helen keller spread no do...</td>\n",
       "    </tr>\n",
       "    <tr>\n",
       "      <th>1</th>\n",
       "      <td>love is like a drug — romantic love causes cha...</td>\n",
       "    </tr>\n",
       "    <tr>\n",
       "      <th>2</th>\n",
       "      <td>this refers to cp set to reassign 250 alcoholi...</td>\n",
       "    </tr>\n",
       "    <tr>\n",
       "      <th>3</th>\n",
       "      <td>motivating talk: the aa members explained the ...</td>\n",
       "    </tr>\n",
       "    <tr>\n",
       "      <th>4</th>\n",
       "      <td>a father’s healing touch father joseph pereira...</td>\n",
       "    </tr>\n",
       "  </tbody>\n",
       "</table>\n",
       "</div>"
      ],
      "text/plain": [
       "                                    Cleaned_Articles\n",
       "0  alcoholics anonymous helen keller spread no do...\n",
       "1  love is like a drug — romantic love causes cha...\n",
       "2  this refers to cp set to reassign 250 alcoholi...\n",
       "3  motivating talk: the aa members explained the ...\n",
       "4  a father’s healing touch father joseph pereira..."
      ]
     },
     "execution_count": 3,
     "metadata": {},
     "output_type": "execute_result"
    }
   ],
   "source": [
    "cleaning = re.compile(r\"[.;:!\\'?,\\\"()\\[\\]](<br\\s*/><br\\s*/>)|(\\-)|(\\/)\")\n",
    "\n",
    "data['Cleaned_Articles'] = [cleaning.sub(\"\", data['Articles'][i].lower().replace('\\r\\n\\r\\n', ' ').replace(\"\\'\", \"\")) for i in range(len(data['Articles']))]\n",
    "\n",
    "data = data.drop(['Articles'], axis=1)\n",
    "data.head()"
   ]
  },
  {
   "cell_type": "markdown",
   "metadata": {},
   "source": [
    "### For each article calculating the Polarity values of the following\n",
    "* Positive\n",
    "* Neutral\n",
    "* Negative\n",
    "* Compound "
   ]
  },
  {
   "cell_type": "code",
   "execution_count": 4,
   "metadata": {},
   "outputs": [],
   "source": [
    "analyser = SentimentIntensityAnalyzer()\n",
    "\n",
    "data['polarity'] = [analyser.polarity_scores(data['Cleaned_Articles'][i]) for i in range(len(data['Cleaned_Articles']))]"
   ]
  },
  {
   "cell_type": "code",
   "execution_count": 5,
   "metadata": {},
   "outputs": [
    {
     "data": {
      "text/html": [
       "<div>\n",
       "<style scoped>\n",
       "    .dataframe tbody tr th:only-of-type {\n",
       "        vertical-align: middle;\n",
       "    }\n",
       "\n",
       "    .dataframe tbody tr th {\n",
       "        vertical-align: top;\n",
       "    }\n",
       "\n",
       "    .dataframe thead th {\n",
       "        text-align: right;\n",
       "    }\n",
       "</style>\n",
       "<table border=\"1\" class=\"dataframe\">\n",
       "  <thead>\n",
       "    <tr style=\"text-align: right;\">\n",
       "      <th></th>\n",
       "      <th>Cleaned_Articles</th>\n",
       "      <th>polarity</th>\n",
       "    </tr>\n",
       "  </thead>\n",
       "  <tbody>\n",
       "    <tr>\n",
       "      <th>0</th>\n",
       "      <td>alcoholics anonymous helen keller spread no do...</td>\n",
       "      <td>{'neg': 0.038, 'neu': 0.875, 'pos': 0.087, 'co...</td>\n",
       "    </tr>\n",
       "    <tr>\n",
       "      <th>1</th>\n",
       "      <td>love is like a drug — romantic love causes cha...</td>\n",
       "      <td>{'neg': 0.101, 'neu': 0.738, 'pos': 0.161, 'co...</td>\n",
       "    </tr>\n",
       "    <tr>\n",
       "      <th>2</th>\n",
       "      <td>this refers to cp set to reassign 250 alcoholi...</td>\n",
       "      <td>{'neg': 0.133, 'neu': 0.756, 'pos': 0.111, 'co...</td>\n",
       "    </tr>\n",
       "    <tr>\n",
       "      <th>3</th>\n",
       "      <td>motivating talk: the aa members explained the ...</td>\n",
       "      <td>{'neg': 0.057, 'neu': 0.843, 'pos': 0.1, 'comp...</td>\n",
       "    </tr>\n",
       "    <tr>\n",
       "      <th>4</th>\n",
       "      <td>a father’s healing touch father joseph pereira...</td>\n",
       "      <td>{'neg': 0.03, 'neu': 0.857, 'pos': 0.112, 'com...</td>\n",
       "    </tr>\n",
       "    <tr>\n",
       "      <th>5</th>\n",
       "      <td>britney spears is hooked on to something new s...</td>\n",
       "      <td>{'neg': 0.064, 'neu': 0.849, 'pos': 0.088, 'co...</td>\n",
       "    </tr>\n",
       "    <tr>\n",
       "      <th>6</th>\n",
       "      <td>pooja bhatt alcohol mahesh bhatt sanjay dutt n...</td>\n",
       "      <td>{'neg': 0.09, 'neu': 0.81, 'pos': 0.1, 'compou...</td>\n",
       "    </tr>\n",
       "    <tr>\n",
       "      <th>7</th>\n",
       "      <td>twelve steps to recovery as presented by alcoh...</td>\n",
       "      <td>{'neg': 0.138, 'neu': 0.819, 'pos': 0.043, 'co...</td>\n",
       "    </tr>\n",
       "    <tr>\n",
       "      <th>8</th>\n",
       "      <td>over 100 ngos face shut down, even as bmc allo...</td>\n",
       "      <td>{'neg': 0.063, 'neu': 0.875, 'pos': 0.062, 'co...</td>\n",
       "    </tr>\n",
       "    <tr>\n",
       "      <th>9</th>\n",
       "      <td>naomi campbell great sphinx mystical jewish fa...</td>\n",
       "      <td>{'neg': 0.033, 'neu': 0.849, 'pos': 0.118, 'co...</td>\n",
       "    </tr>\n",
       "    <tr>\n",
       "      <th>10</th>\n",
       "      <td>pop star kid rock aka robert james ritchie (in...</td>\n",
       "      <td>{'neg': 0.068, 'neu': 0.828, 'pos': 0.103, 'co...</td>\n",
       "    </tr>\n",
       "    <tr>\n",
       "      <th>11</th>\n",
       "      <td>web site youngsters the web site also includes...</td>\n",
       "      <td>{'neg': 0.019, 'neu': 0.782, 'pos': 0.199, 'co...</td>\n",
       "    </tr>\n",
       "    <tr>\n",
       "      <th>12</th>\n",
       "      <td>dear bachi,  i am a 34yearold health professio...</td>\n",
       "      <td>{'neg': 0.156, 'neu': 0.709, 'pos': 0.135, 'co...</td>\n",
       "    </tr>\n",
       "    <tr>\n",
       "      <th>13</th>\n",
       "      <td>lindsay lohan has checked into rehab. “i have ...</td>\n",
       "      <td>{'neg': 0.034, 'neu': 0.844, 'pos': 0.123, 'co...</td>\n",
       "    </tr>\n",
       "    <tr>\n",
       "      <th>14</th>\n",
       "      <td>scent of lohan lindsay lohan was told by jane ...</td>\n",
       "      <td>{'neg': 0.063, 'neu': 0.835, 'pos': 0.102, 'co...</td>\n",
       "    </tr>\n",
       "    <tr>\n",
       "      <th>15</th>\n",
       "      <td>why do men get too tired for sex? initial brai...</td>\n",
       "      <td>{'neg': 0.159, 'neu': 0.748, 'pos': 0.093, 'co...</td>\n",
       "    </tr>\n",
       "    <tr>\n",
       "      <th>16</th>\n",
       "      <td>world health organisation puducherry rajasthan...</td>\n",
       "      <td>{'neg': 0.075, 'neu': 0.851, 'pos': 0.074, 'co...</td>\n",
       "    </tr>\n",
       "    <tr>\n",
       "      <th>17</th>\n",
       "      <td>tremendous risk that beneficiaries may be lost...</td>\n",
       "      <td>{'neg': 0.061, 'neu': 0.861, 'pos': 0.078, 'co...</td>\n",
       "    </tr>\n",
       "    <tr>\n",
       "      <th>18</th>\n",
       "      <td>moneylender santosh tiwari suffering from guil...</td>\n",
       "      <td>{'neg': 0.164, 'neu': 0.81, 'pos': 0.026, 'com...</td>\n",
       "    </tr>\n",
       "    <tr>\n",
       "      <th>19</th>\n",
       "      <td>one of the best experiences of neysa mendes li...</td>\n",
       "      <td>{'neg': 0.022, 'neu': 0.851, 'pos': 0.127, 'co...</td>\n",
       "    </tr>\n",
       "    <tr>\n",
       "      <th>20</th>\n",
       "      <td>cinemax multiplex lokhandwala versova industry...</td>\n",
       "      <td>{'neg': 0.173, 'neu': 0.742, 'pos': 0.086, 'co...</td>\n",
       "    </tr>\n",
       "    <tr>\n",
       "      <th>21</th>\n",
       "      <td>amit tandon on bringing his wife back f... ami...</td>\n",
       "      <td>{'neg': 0.11, 'neu': 0.89, 'pos': 0.0, 'compou...</td>\n",
       "    </tr>\n",
       "    <tr>\n",
       "      <th>22</th>\n",
       "      <td>i invited my best friend. we ended up having a...</td>\n",
       "      <td>{'neg': 0.069, 'neu': 0.761, 'pos': 0.17, 'com...</td>\n",
       "    </tr>\n",
       "    <tr>\n",
       "      <th>23</th>\n",
       "      <td>main control room pune ats malegaon blasts pol...</td>\n",
       "      <td>{'neg': 0.082, 'neu': 0.908, 'pos': 0.01, 'com...</td>\n",
       "    </tr>\n",
       "  </tbody>\n",
       "</table>\n",
       "</div>"
      ],
      "text/plain": [
       "                                     Cleaned_Articles  \\\n",
       "0   alcoholics anonymous helen keller spread no do...   \n",
       "1   love is like a drug — romantic love causes cha...   \n",
       "2   this refers to cp set to reassign 250 alcoholi...   \n",
       "3   motivating talk: the aa members explained the ...   \n",
       "4   a father’s healing touch father joseph pereira...   \n",
       "5   britney spears is hooked on to something new s...   \n",
       "6   pooja bhatt alcohol mahesh bhatt sanjay dutt n...   \n",
       "7   twelve steps to recovery as presented by alcoh...   \n",
       "8   over 100 ngos face shut down, even as bmc allo...   \n",
       "9   naomi campbell great sphinx mystical jewish fa...   \n",
       "10  pop star kid rock aka robert james ritchie (in...   \n",
       "11  web site youngsters the web site also includes...   \n",
       "12  dear bachi,  i am a 34yearold health professio...   \n",
       "13  lindsay lohan has checked into rehab. “i have ...   \n",
       "14  scent of lohan lindsay lohan was told by jane ...   \n",
       "15  why do men get too tired for sex? initial brai...   \n",
       "16  world health organisation puducherry rajasthan...   \n",
       "17  tremendous risk that beneficiaries may be lost...   \n",
       "18  moneylender santosh tiwari suffering from guil...   \n",
       "19  one of the best experiences of neysa mendes li...   \n",
       "20  cinemax multiplex lokhandwala versova industry...   \n",
       "21  amit tandon on bringing his wife back f... ami...   \n",
       "22  i invited my best friend. we ended up having a...   \n",
       "23  main control room pune ats malegaon blasts pol...   \n",
       "\n",
       "                                             polarity  \n",
       "0   {'neg': 0.038, 'neu': 0.875, 'pos': 0.087, 'co...  \n",
       "1   {'neg': 0.101, 'neu': 0.738, 'pos': 0.161, 'co...  \n",
       "2   {'neg': 0.133, 'neu': 0.756, 'pos': 0.111, 'co...  \n",
       "3   {'neg': 0.057, 'neu': 0.843, 'pos': 0.1, 'comp...  \n",
       "4   {'neg': 0.03, 'neu': 0.857, 'pos': 0.112, 'com...  \n",
       "5   {'neg': 0.064, 'neu': 0.849, 'pos': 0.088, 'co...  \n",
       "6   {'neg': 0.09, 'neu': 0.81, 'pos': 0.1, 'compou...  \n",
       "7   {'neg': 0.138, 'neu': 0.819, 'pos': 0.043, 'co...  \n",
       "8   {'neg': 0.063, 'neu': 0.875, 'pos': 0.062, 'co...  \n",
       "9   {'neg': 0.033, 'neu': 0.849, 'pos': 0.118, 'co...  \n",
       "10  {'neg': 0.068, 'neu': 0.828, 'pos': 0.103, 'co...  \n",
       "11  {'neg': 0.019, 'neu': 0.782, 'pos': 0.199, 'co...  \n",
       "12  {'neg': 0.156, 'neu': 0.709, 'pos': 0.135, 'co...  \n",
       "13  {'neg': 0.034, 'neu': 0.844, 'pos': 0.123, 'co...  \n",
       "14  {'neg': 0.063, 'neu': 0.835, 'pos': 0.102, 'co...  \n",
       "15  {'neg': 0.159, 'neu': 0.748, 'pos': 0.093, 'co...  \n",
       "16  {'neg': 0.075, 'neu': 0.851, 'pos': 0.074, 'co...  \n",
       "17  {'neg': 0.061, 'neu': 0.861, 'pos': 0.078, 'co...  \n",
       "18  {'neg': 0.164, 'neu': 0.81, 'pos': 0.026, 'com...  \n",
       "19  {'neg': 0.022, 'neu': 0.851, 'pos': 0.127, 'co...  \n",
       "20  {'neg': 0.173, 'neu': 0.742, 'pos': 0.086, 'co...  \n",
       "21  {'neg': 0.11, 'neu': 0.89, 'pos': 0.0, 'compou...  \n",
       "22  {'neg': 0.069, 'neu': 0.761, 'pos': 0.17, 'com...  \n",
       "23  {'neg': 0.082, 'neu': 0.908, 'pos': 0.01, 'com...  "
      ]
     },
     "metadata": {},
     "output_type": "display_data"
    }
   ],
   "source": [
    "display(data)"
   ]
  },
  {
   "cell_type": "code",
   "execution_count": 6,
   "metadata": {},
   "outputs": [
    {
     "data": {
      "text/plain": [
       "(24, 2)"
      ]
     },
     "execution_count": 6,
     "metadata": {},
     "output_type": "execute_result"
    }
   ],
   "source": [
    "data.shape"
   ]
  }
 ],
 "metadata": {
  "kernelspec": {
   "display_name": "Python 3",
   "language": "python",
   "name": "python3"
  },
  "language_info": {
   "codemirror_mode": {
    "name": "ipython",
    "version": 3
   },
   "file_extension": ".py",
   "mimetype": "text/x-python",
   "name": "python",
   "nbconvert_exporter": "python",
   "pygments_lexer": "ipython3",
   "version": "3.7.1"
  }
 },
 "nbformat": 4,
 "nbformat_minor": 2
}
