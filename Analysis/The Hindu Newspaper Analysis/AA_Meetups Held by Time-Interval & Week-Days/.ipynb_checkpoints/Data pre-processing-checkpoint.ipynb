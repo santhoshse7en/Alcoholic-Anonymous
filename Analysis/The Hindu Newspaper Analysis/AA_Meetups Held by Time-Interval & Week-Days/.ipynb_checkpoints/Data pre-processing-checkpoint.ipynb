{
 "cells": [
  {
   "cell_type": "markdown",
   "metadata": {},
   "source": [
    "### Data Pre-Processing for creating AA_Meetups Dataset\n",
    "\n",
    "#### The collected data undergoes through a series of steps during preprocessing\n",
    "\n",
    "- Data Cleaning\n",
    "- Data Integration\n",
    "- Data Transformation\n",
    "\n",
    "#### Importing necessary Libraries"
   ]
  },
  {
   "cell_type": "code",
   "execution_count": 1,
   "metadata": {},
   "outputs": [],
   "source": [
    "from datetime import datetime # Date customization\n",
    "import itertools # iterators for efficient looping\n",
    "import pandas as pd # primary data structure library\n",
    "import re # match or find other strings or sets of strings\n",
    "import ast # Abstract Syntax Trees"
   ]
  },
  {
   "cell_type": "markdown",
   "metadata": {},
   "source": [
    "### Collected data ['The_Hindu.csv'] read into a pandas dataframe"
   ]
  },
  {
   "cell_type": "code",
   "execution_count": 2,
   "metadata": {},
   "outputs": [],
   "source": [
    "data = pd.read_csv('The_Hindu.csv')"
   ]
  },
  {
   "cell_type": "code",
   "execution_count": 3,
   "metadata": {},
   "outputs": [
    {
     "data": {
      "text/html": [
       "<div>\n",
       "<style scoped>\n",
       "    .dataframe tbody tr th:only-of-type {\n",
       "        vertical-align: middle;\n",
       "    }\n",
       "\n",
       "    .dataframe tbody tr th {\n",
       "        vertical-align: top;\n",
       "    }\n",
       "\n",
       "    .dataframe thead th {\n",
       "        text-align: right;\n",
       "    }\n",
       "</style>\n",
       "<table border=\"1\" class=\"dataframe\">\n",
       "  <thead>\n",
       "    <tr style=\"text-align: right;\">\n",
       "      <th></th>\n",
       "      <th>Headlines</th>\n",
       "      <th>Descriptions</th>\n",
       "      <th>Authors</th>\n",
       "      <th>Published_Dates</th>\n",
       "      <th>Articles</th>\n",
       "      <th>Source_URLs</th>\n",
       "    </tr>\n",
       "  </thead>\n",
       "  <tbody>\n",
       "    <tr>\n",
       "      <th>0</th>\n",
       "      <td>Engagements for Thursday, April 18</td>\n",
       "      <td>RELIGION Ramayanam: Akkaraikeni Srinidhi, Sri ...</td>\n",
       "      <td>NaN</td>\n",
       "      <td>18-Apr-19</td>\n",
       "      <td>RELIGIONRamayanam: Akkaraikeni Srinidhi, Sri R...</td>\n",
       "      <td>https://www.thehindu.com/news/cities/chennai/e...</td>\n",
       "    </tr>\n",
       "    <tr>\n",
       "      <th>1</th>\n",
       "      <td>Madurai Today - April18, 2019</td>\n",
       "      <td>RELIGION Selva Vinayagar Temple: Chitra Pourna...</td>\n",
       "      <td>NaN</td>\n",
       "      <td>18-Apr-19</td>\n",
       "      <td>RELIGIONSelva Vinayagar Temple:Chitra Pournami...</td>\n",
       "      <td>https://www.thehindu.com/todays-paper/tp-natio...</td>\n",
       "    </tr>\n",
       "    <tr>\n",
       "      <th>2</th>\n",
       "      <td>engagements</td>\n",
       "      <td>TIRUNELVELI Alcoholics Anonymous and Al-Anon: ...</td>\n",
       "      <td>NaN</td>\n",
       "      <td>18-Apr-19</td>\n",
       "      <td>TIRUNELVELIAlcoholics Anonymous and Al-Anon:Re...</td>\n",
       "      <td>https://www.thehindu.com/todays-paper/tp-natio...</td>\n",
       "    </tr>\n",
       "    <tr>\n",
       "      <th>3</th>\n",
       "      <td>Madurai Today - April18, 2019</td>\n",
       "      <td>RELIGIONSelva Vinayagar Temple: Chitra Pournam...</td>\n",
       "      <td>NaN</td>\n",
       "      <td>17-Apr-19</td>\n",
       "      <td>RELIGIONSelva Vinayagar Temple: Chitra Pournam...</td>\n",
       "      <td>https://www.thehindu.com/events/madurai-today-...</td>\n",
       "    </tr>\n",
       "    <tr>\n",
       "      <th>4</th>\n",
       "      <td>Madurai Today</td>\n",
       "      <td>RELIGION Selva Vinayagar Temple: Pradosha puja...</td>\n",
       "      <td>Special Correspondent</td>\n",
       "      <td>17-Apr-19</td>\n",
       "      <td>RELIGIONSelva Vinayagar Temple:Pradosha puja, ...</td>\n",
       "      <td>https://www.thehindu.com/todays-paper/tp-natio...</td>\n",
       "    </tr>\n",
       "  </tbody>\n",
       "</table>\n",
       "</div>"
      ],
      "text/plain": [
       "                            Headlines  \\\n",
       "0  Engagements for Thursday, April 18   \n",
       "1       Madurai Today - April18, 2019   \n",
       "2                         engagements   \n",
       "3       Madurai Today - April18, 2019   \n",
       "4                       Madurai Today   \n",
       "\n",
       "                                        Descriptions                Authors  \\\n",
       "0  RELIGION Ramayanam: Akkaraikeni Srinidhi, Sri ...                    NaN   \n",
       "1  RELIGION Selva Vinayagar Temple: Chitra Pourna...                    NaN   \n",
       "2  TIRUNELVELI Alcoholics Anonymous and Al-Anon: ...                    NaN   \n",
       "3  RELIGIONSelva Vinayagar Temple: Chitra Pournam...                    NaN   \n",
       "4  RELIGION Selva Vinayagar Temple: Pradosha puja...  Special Correspondent   \n",
       "\n",
       "  Published_Dates                                           Articles  \\\n",
       "0       18-Apr-19  RELIGIONRamayanam: Akkaraikeni Srinidhi, Sri R...   \n",
       "1       18-Apr-19  RELIGIONSelva Vinayagar Temple:Chitra Pournami...   \n",
       "2       18-Apr-19  TIRUNELVELIAlcoholics Anonymous and Al-Anon:Re...   \n",
       "3       17-Apr-19  RELIGIONSelva Vinayagar Temple: Chitra Pournam...   \n",
       "4       17-Apr-19  RELIGIONSelva Vinayagar Temple:Pradosha puja, ...   \n",
       "\n",
       "                                         Source_URLs  \n",
       "0  https://www.thehindu.com/news/cities/chennai/e...  \n",
       "1  https://www.thehindu.com/todays-paper/tp-natio...  \n",
       "2  https://www.thehindu.com/todays-paper/tp-natio...  \n",
       "3  https://www.thehindu.com/events/madurai-today-...  \n",
       "4  https://www.thehindu.com/todays-paper/tp-natio...  "
      ]
     },
     "execution_count": 3,
     "metadata": {},
     "output_type": "execute_result"
    }
   ],
   "source": [
    "data.head()"
   ]
  },
  {
   "cell_type": "code",
   "execution_count": 4,
   "metadata": {},
   "outputs": [
    {
     "data": {
      "text/plain": [
       "(11842, 6)"
      ]
     },
     "execution_count": 4,
     "metadata": {},
     "output_type": "execute_result"
    }
   ],
   "source": [
    "data.shape"
   ]
  },
  {
   "cell_type": "markdown",
   "metadata": {},
   "source": [
    "### Creating the Headline Constraints list accordingly to Locations and events"
   ]
  },
  {
   "cell_type": "code",
   "execution_count": 5,
   "metadata": {},
   "outputs": [],
   "source": [
    "Constraints = ['Engage', 'Chennai', 'Madurai', 'Thiruvananthapuram', 'Tirunelveli', 'Caoimbatore', 'Coimbatore', 'Hyderabad', \n",
    "               'Hyderabas', 'New delhi', 'Tirupur', 'Tiruchi', 'Vijayawada', 'Dindugul', 'Kochi', 'Nellai', 'Kozhikode', \n",
    "               'Tuticorin', 'Mangalore', 'Bangalore', 'Bengaluru']"
   ]
  },
  {
   "cell_type": "markdown",
   "metadata": {},
   "source": [
    "### Creating Empty lists for AA_Meetups data to be Filtered"
   ]
  },
  {
   "cell_type": "code",
   "execution_count": 6,
   "metadata": {},
   "outputs": [],
   "source": [
    "articles, headlines, dates, locations, days, years, timings = [], [], [], [], [], [], []"
   ]
  },
  {
   "cell_type": "markdown",
   "metadata": {},
   "source": [
    "### Itertate the loop to extract the Alcoholics keyword related articles. Using regex, extracting the Alcoholics Anonymous Meetings Schedule from the Articles column"
   ]
  },
  {
   "cell_type": "code",
   "execution_count": 7,
   "metadata": {},
   "outputs": [],
   "source": [
    "time = r'\\s(\\d{2}\\.\\d{2}\\s?(?:am.|pm.|a.m.|p.m.))|\\s(\\d{1}\\s?(?:am.|pm.|a.m.|p.m.))|\\s(\\d{2}\\s?(?:am.|pm.|a.m.|p.m.))|\\s(\\d{1}\\.\\d{2}\\s?(?:am.|pm.|a.m.|p.m.))|\\s(\\d{2}\\.\\d{1}\\s?(?:am.|pm.|a.m.|p.m.))|\\s(\\d{1}\\s?(?:a.|p.))|\\s(\\d{2}\\s?(?:a.|p.))|(\\d{1}\\s?(?:a.|p.))|(\\d{2}\\s?(?:a.|p.))|(\\s\\d{1}\\.?(?:a.|p.))|(\\s\\d{2}\\.?(?:a.|p.))'"
   ]
  },
  {
   "cell_type": "code",
   "execution_count": 8,
   "metadata": {},
   "outputs": [],
   "source": [
    "for i in range(len(data)):\n",
    "    for title in Constraints:\n",
    "        if (title.lower() in data['Headlines'][i].lower() and 'Alcoholics' and 'Meeting' in data['Articles'][i]):\n",
    "            start = data['Articles'][i].find('Alcoholics')\n",
    "            end = data['Articles'][i].find('Please')\n",
    "            articles.append(data['Articles'][i][start:end])\n",
    "            locations.append(title)\n",
    "            headlines.append(data['Headlines'][i])\n",
    "            dates.append(data['Published_Dates'][i])\n",
    "            x = datetime.strptime(data['Published_Dates'][i], '%d-%b-%y')\n",
    "            days.append(x.strftime('%A'))\n",
    "            years.append(x.strftime('%Y'))\n",
    "            try:\n",
    "                a = re.findall(time, data['Articles'][i])\n",
    "                str_list = list(itertools.chain(*a))\n",
    "                timings.append(list(filter(None, str_list)))\n",
    "            except:\n",
    "                timings.append(None)\n",
    "            break"
   ]
  },
  {
   "cell_type": "markdown",
   "metadata": {},
   "source": [
    "### Replace 'Engage' with 'Engagement' and 'Hyderabas' with 'Hyderabad'"
   ]
  },
  {
   "cell_type": "code",
   "execution_count": 9,
   "metadata": {},
   "outputs": [],
   "source": [
    "for i, item in enumerate(locations):\n",
    "    if 'Engage' == item:\n",
    "        locations[i] = item.replace(item, 'Engagement')\n",
    "    elif 'Hyderabas' == item:\n",
    "        locations[i] = item.replace(item, 'Hyderabad')\n",
    "    else:\n",
    "        item"
   ]
  },
  {
   "cell_type": "markdown",
   "metadata": {},
   "source": [
    "### Checking Array Length of each list to create DataFrame"
   ]
  },
  {
   "cell_type": "code",
   "execution_count": 10,
   "metadata": {},
   "outputs": [
    {
     "name": "stdout",
     "output_type": "stream",
     "text": [
      "8526 8526 8526 8526 8526 8526 8526\n"
     ]
    }
   ],
   "source": [
    "print(len(articles), len(headlines), len(dates), len(locations), len(days), len(years), len(timings))"
   ]
  },
  {
   "cell_type": "markdown",
   "metadata": {},
   "source": [
    "### Creating a csv file after validating array length"
   ]
  },
  {
   "cell_type": "code",
   "execution_count": 11,
   "metadata": {},
   "outputs": [],
   "source": [
    "hindu = pd.DataFrame({'Headlines' : headlines,\n",
    "                      'Locations' : locations,\n",
    "                      'Day' : days,\n",
    "                      'Year' : years,\n",
    "                      'Published_Dates' : dates,\n",
    "                      'Total Schedules in Region' : timings,\n",
    "                      'Articles' : articles})"
   ]
  },
  {
   "cell_type": "code",
   "execution_count": 12,
   "metadata": {},
   "outputs": [],
   "source": [
    "hindu.to_csv('AA_Meets.csv', index=False)"
   ]
  },
  {
   "cell_type": "code",
   "execution_count": 13,
   "metadata": {},
   "outputs": [
    {
     "data": {
      "text/html": [
       "<div>\n",
       "<style scoped>\n",
       "    .dataframe tbody tr th:only-of-type {\n",
       "        vertical-align: middle;\n",
       "    }\n",
       "\n",
       "    .dataframe tbody tr th {\n",
       "        vertical-align: top;\n",
       "    }\n",
       "\n",
       "    .dataframe thead th {\n",
       "        text-align: right;\n",
       "    }\n",
       "</style>\n",
       "<table border=\"1\" class=\"dataframe\">\n",
       "  <thead>\n",
       "    <tr style=\"text-align: right;\">\n",
       "      <th></th>\n",
       "      <th>Headlines</th>\n",
       "      <th>Locations</th>\n",
       "      <th>Day</th>\n",
       "      <th>Year</th>\n",
       "      <th>Published_Dates</th>\n",
       "      <th>Total Schedules in Region</th>\n",
       "      <th>Articles</th>\n",
       "    </tr>\n",
       "  </thead>\n",
       "  <tbody>\n",
       "    <tr>\n",
       "      <th>0</th>\n",
       "      <td>Engagements for Thursday, April 18</td>\n",
       "      <td>Engagement</td>\n",
       "      <td>Thursday</td>\n",
       "      <td>2019</td>\n",
       "      <td>18-Apr-19</td>\n",
       "      <td>[6.30 p.mn, 7 p.m., 7 p.m., 7 p.m., 7 p.m., 7 ...</td>\n",
       "      <td>Alcoholics Anonymous: Meetings, Church of Chri...</td>\n",
       "    </tr>\n",
       "    <tr>\n",
       "      <th>1</th>\n",
       "      <td>Madurai Today - April18, 2019</td>\n",
       "      <td>Madurai</td>\n",
       "      <td>Thursday</td>\n",
       "      <td>2019</td>\n",
       "      <td>18-Apr-19</td>\n",
       "      <td>[7 p.m., 5.45 a.m., 7 p.m., 6 a.m., 9 a.m., 5 ...</td>\n",
       "      <td>Alcoholics Anonymous:Meeting; Dheep Hospital, ...</td>\n",
       "    </tr>\n",
       "    <tr>\n",
       "      <th>2</th>\n",
       "      <td>Madurai Today - April18, 2019</td>\n",
       "      <td>Madurai</td>\n",
       "      <td>Wednesday</td>\n",
       "      <td>2019</td>\n",
       "      <td>17-Apr-19</td>\n",
       "      <td>[7 p.m., 5.45 a.m., 7 p.m., 6 a.m., 9 a.m., 5 ...</td>\n",
       "      <td>Alcoholics Anonymous: Meeting; Dheep Hospital,...</td>\n",
       "    </tr>\n",
       "    <tr>\n",
       "      <th>3</th>\n",
       "      <td>Madurai Today</td>\n",
       "      <td>Madurai</td>\n",
       "      <td>Wednesday</td>\n",
       "      <td>2019</td>\n",
       "      <td>17-Apr-19</td>\n",
       "      <td>[4.30 p.m., 4 a.m., 7.30 p.m., 9.50 a.m., 11 a...</td>\n",
       "      <td>Alcoholics Anonymous:Meeting; R. C. Church, Si...</td>\n",
       "    </tr>\n",
       "    <tr>\n",
       "      <th>4</th>\n",
       "      <td>Chennai Today</td>\n",
       "      <td>Chennai</td>\n",
       "      <td>Tuesday</td>\n",
       "      <td>2019</td>\n",
       "      <td>16-Apr-19</td>\n",
       "      <td>[6.30 p.mn, 7 p.m., 7 p.m., 4.30 p.m., 6.30 p....</td>\n",
       "      <td>Alcoholics Anonymous: Meetings, Santhome HSS.,...</td>\n",
       "    </tr>\n",
       "  </tbody>\n",
       "</table>\n",
       "</div>"
      ],
      "text/plain": [
       "                            Headlines   Locations        Day  Year  \\\n",
       "0  Engagements for Thursday, April 18  Engagement   Thursday  2019   \n",
       "1       Madurai Today - April18, 2019     Madurai   Thursday  2019   \n",
       "2       Madurai Today - April18, 2019     Madurai  Wednesday  2019   \n",
       "3                       Madurai Today     Madurai  Wednesday  2019   \n",
       "4                       Chennai Today     Chennai    Tuesday  2019   \n",
       "\n",
       "  Published_Dates                          Total Schedules in Region  \\\n",
       "0       18-Apr-19  [6.30 p.mn, 7 p.m., 7 p.m., 7 p.m., 7 p.m., 7 ...   \n",
       "1       18-Apr-19  [7 p.m., 5.45 a.m., 7 p.m., 6 a.m., 9 a.m., 5 ...   \n",
       "2       17-Apr-19  [7 p.m., 5.45 a.m., 7 p.m., 6 a.m., 9 a.m., 5 ...   \n",
       "3       17-Apr-19  [4.30 p.m., 4 a.m., 7.30 p.m., 9.50 a.m., 11 a...   \n",
       "4       16-Apr-19  [6.30 p.mn, 7 p.m., 7 p.m., 4.30 p.m., 6.30 p....   \n",
       "\n",
       "                                            Articles  \n",
       "0  Alcoholics Anonymous: Meetings, Church of Chri...  \n",
       "1  Alcoholics Anonymous:Meeting; Dheep Hospital, ...  \n",
       "2  Alcoholics Anonymous: Meeting; Dheep Hospital,...  \n",
       "3  Alcoholics Anonymous:Meeting; R. C. Church, Si...  \n",
       "4  Alcoholics Anonymous: Meetings, Santhome HSS.,...  "
      ]
     },
     "execution_count": 13,
     "metadata": {},
     "output_type": "execute_result"
    }
   ],
   "source": [
    "hindu.head()"
   ]
  },
  {
   "cell_type": "code",
   "execution_count": 14,
   "metadata": {},
   "outputs": [
    {
     "data": {
      "text/plain": [
       "(8526, 7)"
      ]
     },
     "execution_count": 14,
     "metadata": {},
     "output_type": "execute_result"
    }
   ],
   "source": [
    "hindu.shape"
   ]
  }
 ],
 "metadata": {
  "kernelspec": {
   "display_name": "Python 3",
   "language": "python",
   "name": "python3"
  },
  "language_info": {
   "codemirror_mode": {
    "name": "ipython",
    "version": 3
   },
   "file_extension": ".py",
   "mimetype": "text/x-python",
   "name": "python",
   "nbconvert_exporter": "python",
   "pygments_lexer": "ipython3",
   "version": "3.7.4"
  }
 },
 "nbformat": 4,
 "nbformat_minor": 2
}
