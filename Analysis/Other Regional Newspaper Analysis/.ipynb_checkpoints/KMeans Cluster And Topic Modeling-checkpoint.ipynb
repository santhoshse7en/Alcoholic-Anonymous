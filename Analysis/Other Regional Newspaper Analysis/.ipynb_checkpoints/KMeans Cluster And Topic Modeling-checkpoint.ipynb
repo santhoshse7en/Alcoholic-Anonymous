{
 "cells": [
  {
   "cell_type": "markdown",
   "metadata": {},
   "source": [
    "### Introduction\n",
    "In this kernal, I will use TF-IDF to vectorize the articles data and cluster them. Then, I will make paper recommendation."
   ]
  },
  {
   "cell_type": "markdown",
   "metadata": {},
   "source": [
    "**1. Input data**"
   ]
  },
  {
   "cell_type": "code",
   "execution_count": 1,
   "metadata": {},
   "outputs": [],
   "source": [
    "import numpy as np\n",
    "import pandas as pd \n",
    "from sklearn.cluster import MiniBatchKMeans\n",
    "from sklearn.feature_extraction.text import TfidfVectorizer"
   ]
  },
  {
   "cell_type": "code",
   "execution_count": 2,
   "metadata": {},
   "outputs": [],
   "source": [
    "text = pd.read_csv('Final.csv')"
   ]
  },
  {
   "cell_type": "code",
   "execution_count": 3,
   "metadata": {},
   "outputs": [
    {
     "data": {
      "text/html": [
       "<div>\n",
       "<style scoped>\n",
       "    .dataframe tbody tr th:only-of-type {\n",
       "        vertical-align: middle;\n",
       "    }\n",
       "\n",
       "    .dataframe tbody tr th {\n",
       "        vertical-align: top;\n",
       "    }\n",
       "\n",
       "    .dataframe thead th {\n",
       "        text-align: right;\n",
       "    }\n",
       "</style>\n",
       "<table border=\"1\" class=\"dataframe\">\n",
       "  <thead>\n",
       "    <tr style=\"text-align: right;\">\n",
       "      <th></th>\n",
       "      <th>Headlines</th>\n",
       "      <th>Articles</th>\n",
       "    </tr>\n",
       "  </thead>\n",
       "  <tbody>\n",
       "    <tr>\n",
       "      <th>0</th>\n",
       "      <td>Object : Alcoholics Anonymous Badge</td>\n",
       "      <td>The contributors father was a member of Alcoho...</td>\n",
       "    </tr>\n",
       "    <tr>\n",
       "      <th>1</th>\n",
       "      <td>Every university 'needs' Alcoholics Anonymous ...</td>\n",
       "      <td>Image copyright Getty Images Alcoholics Anonym...</td>\n",
       "    </tr>\n",
       "    <tr>\n",
       "      <th>2</th>\n",
       "      <td>What happens in an Alcoholics Anonymous meeting?</td>\n",
       "      <td>Image caption The true nature of alcoholism is...</td>\n",
       "    </tr>\n",
       "    <tr>\n",
       "      <th>3</th>\n",
       "      <td>The many groups that have copied Alcoholics An...</td>\n",
       "      <td>Image copyright Other Image caption An AA meet...</td>\n",
       "    </tr>\n",
       "    <tr>\n",
       "      <th>4</th>\n",
       "      <td>Should there be a word for an 'almost alcoholic'?</td>\n",
       "      <td>Image copyright Thinkstock Everybody thinks th...</td>\n",
       "    </tr>\n",
       "  </tbody>\n",
       "</table>\n",
       "</div>"
      ],
      "text/plain": [
       "                                           Headlines  \\\n",
       "0                Object : Alcoholics Anonymous Badge   \n",
       "1  Every university 'needs' Alcoholics Anonymous ...   \n",
       "2   What happens in an Alcoholics Anonymous meeting?   \n",
       "3  The many groups that have copied Alcoholics An...   \n",
       "4  Should there be a word for an 'almost alcoholic'?   \n",
       "\n",
       "                                            Articles  \n",
       "0  The contributors father was a member of Alcoho...  \n",
       "1  Image copyright Getty Images Alcoholics Anonym...  \n",
       "2  Image caption The true nature of alcoholism is...  \n",
       "3  Image copyright Other Image caption An AA meet...  \n",
       "4  Image copyright Thinkstock Everybody thinks th...  "
      ]
     },
     "execution_count": 3,
     "metadata": {},
     "output_type": "execute_result"
    }
   ],
   "source": [
    "text = text.drop(['Descriptions', 'Authors', 'Published_Dates', 'Keywords', 'Summaries', 'Publication', 'category', 'Source_URLs'], axis=1).dropna().reset_index(drop=True)\n",
    "text.head()"
   ]
  },
  {
   "cell_type": "markdown",
   "metadata": {},
   "source": [
    "**2. Using TF-IDF vectorize the articles**\n",
    "\n",
    "**Introduction** to TF-IDF"
   ]
  },
  {
   "cell_type": "code",
   "execution_count": 4,
   "metadata": {},
   "outputs": [
    {
     "data": {
      "text/plain": [
       "0    The contributors father was a member of Alcoho...\n",
       "1    Image copyright Getty Images Alcoholics Anonym...\n",
       "2    Image caption The true nature of alcoholism is...\n",
       "3    Image copyright Other Image caption An AA meet...\n",
       "4    Image copyright Thinkstock Everybody thinks th...\n",
       "Name: Articles, dtype: object"
      ]
     },
     "execution_count": 4,
     "metadata": {},
     "output_type": "execute_result"
    }
   ],
   "source": [
    "text_content = text['Articles']\n",
    "vector = TfidfVectorizer(stop_words = 'english')\n",
    "tfidf = vector.fit_transform(text_content)\n",
    "text_content.head()"
   ]
  },
  {
   "cell_type": "markdown",
   "metadata": {},
   "source": [
    "**3. Using elbow method to decide cluster number**\n",
    "\n",
    "Introduction to **elbow method**"
   ]
  },
  {
   "cell_type": "code",
   "execution_count": 5,
   "metadata": {},
   "outputs": [
    {
     "data": {
      "text/plain": [
       "<Figure size 640x480 with 1 Axes>"
      ]
     },
     "metadata": {},
     "output_type": "display_data"
    }
   ],
   "source": [
    "K = range(1,15)\n",
    "SSE = []\n",
    "for k in K:\n",
    "    kmeans = MiniBatchKMeans(n_clusters = k,batch_size = 300)\n",
    "    kmeans.fit(tfidf)\n",
    "    SSE.append(kmeans.inertia_)\n",
    "    \n",
    "import matplotlib.pyplot as plt\n",
    "plt.plot(K,SSE,'bx-')\n",
    "plt.title('Elbow Method')\n",
    "plt.xlabel('cluster numbers')\n",
    "plt.show()"
   ]
  },
  {
   "cell_type": "markdown",
   "metadata": {},
   "source": [
    "**5. Using MiniBatchKMean to cluster**\n",
    "\n",
    "**Comparison of the K-Means and MiniBatchKMeans clustering algorithms**"
   ]
  },
  {
   "cell_type": "code",
   "execution_count": 6,
   "metadata": {},
   "outputs": [
    {
     "name": "stdout",
     "output_type": "stream",
     "text": [
      "cluster0:\n",
      "['bbc', 'register', 'sign', 'hymn', 'liquor', 'microscopic', 'oily', 'particles', 'inhale', 'gulf', 'shields', 'iraq', 'beloved', '08', 'fish']\n",
      "cluster1:\n",
      "['alcohol', 'said', 'people', 'drinking', 'says', 'drink', 'alcoholics', 'aa', 'help', 'addiction', 'image', 'anonymous', 'like', 'life', 'women']\n",
      "cluster2:\n",
      "['chandigarh', 'sector', 'singh', 'students', 'tribune', 'police', 'mr', 'today', 'said', 'mohali', 'rs', 'government', 'punjab', 'administration', 'haryana']\n",
      "cluster3:\n",
      "['bmc', 'classrooms', 'said', 'aawc', 'civic', 'municipal', 'ngos', 'œwe', 'eviction', 'organisations', 'school', 'œthey', 'education', 'prostitution', 'keller']\n"
     ]
    }
   ],
   "source": [
    "k = 4\n",
    "kmeans = MiniBatchKMeans(n_clusters = k)\n",
    "kmeans.fit(tfidf)\n",
    "centers = kmeans.cluster_centers_.argsort()[:,::-1]\n",
    "terms = vector.get_feature_names()\n",
    "\n",
    "for i in range(0,k):\n",
    "    word_list=[]\n",
    "    print(\"cluster%d:\"% i)\n",
    "    for j in centers[i,:15]:\n",
    "        word_list.append(terms[j])\n",
    "    print(word_list) "
   ]
  },
  {
   "cell_type": "markdown",
   "metadata": {},
   "source": [
    "**6. Article Recommendation**\n",
    "\n",
    "Since we had vectorize the articles by TF-IDF, we only need to compare articles by comparing their vectors. Bigger inner product of two vectors means they shares more similar information."
   ]
  },
  {
   "cell_type": "code",
   "execution_count": 7,
   "metadata": {},
   "outputs": [
    {
     "name": "stdout",
     "output_type": "stream",
     "text": [
      "Object : Alcoholics Anonymous Badge\n",
      "\n",
      "similiar papers:\n",
      "AA: America's Gift to the World\n",
      "AA: America's Gift to the World\n",
      "Events in Staffordshire for November 2007\n",
      "Alcohol misuse: help and advice\n",
      "AA: America's Gift to the World\n"
     ]
    }
   ],
   "source": [
    "similarity = np.dot(tfidf[0],np.transpose(tfidf))\n",
    "x = np.array(similarity.toarray()[0])\n",
    "print(text['Headlines'][0])\n",
    "print('\\nsimiliar papers:')\n",
    "print('\\n'.join(text['Headlines'].loc[np.argsort(x)[-7:-2]]))"
   ]
  },
  {
   "cell_type": "markdown",
   "metadata": {},
   "source": [
    "**7. Topics modeling**\n",
    "\n",
    "Here I use NMF instead of LDA because LDA's calculation is time-consuming.\n",
    "\n",
    "The major topics consist of politics, society, finance and internetional affairs, which is quite similiar to our cluster result."
   ]
  },
  {
   "cell_type": "code",
   "execution_count": 8,
   "metadata": {},
   "outputs": [
    {
     "name": "stdout",
     "output_type": "stream",
     "text": [
      "Topic0:\n",
      "['help', 'alcoholics', 'like', 'alcoholic', 'women', 'life', 'years', 'aa', 'image', 'addiction', 'says', 'drink', 'said', 'people', 'drinking']\n",
      "Topic1:\n",
      "['fall', 'drama', 'alcoholics', 'laugh', 'comedy', 'recovery', 'love', 'rebecca', 'weekly', 'sue', 'johnston', 'kaye', 'hannah', 'jackson', 'pete']\n",
      "Topic2:\n",
      "['city', 'school', 'mr', 'government', 'minister', 'youth', 'mohali', 'august', 'tribune', 'singh', 'said', 'today', 'students', 'police', 'sector']\n",
      "Topic3:\n",
      "['0300', 'provides', 'help', 'http', 'https', 'confidential', 'services', 'information', 'alcohol', 'advice', 'phone', 'support', 'helpline', 'uk', 'org']\n"
     ]
    }
   ],
   "source": [
    "from sklearn.decomposition import NMF\n",
    "\n",
    "nmf  = NMF(n_components = 4)\n",
    "nmf.fit(tfidf)\n",
    "for i in range(0,k):\n",
    "    word_list=[]\n",
    "    print(\"Topic%d:\"% i)\n",
    "    for j in nmf.components_.argsort()[i,-16:-1]:\n",
    "        word_list.append(terms[j])\n",
    "    print(word_list)"
   ]
  },
  {
   "cell_type": "code",
   "execution_count": null,
   "metadata": {},
   "outputs": [],
   "source": []
  }
 ],
 "metadata": {
  "kernelspec": {
   "display_name": "Python 3",
   "language": "python",
   "name": "python3"
  },
  "language_info": {
   "codemirror_mode": {
    "name": "ipython",
    "version": 3
   },
   "file_extension": ".py",
   "mimetype": "text/x-python",
   "name": "python",
   "nbconvert_exporter": "python",
   "pygments_lexer": "ipython3",
   "version": "3.7.1"
  }
 },
 "nbformat": 4,
 "nbformat_minor": 2
}
