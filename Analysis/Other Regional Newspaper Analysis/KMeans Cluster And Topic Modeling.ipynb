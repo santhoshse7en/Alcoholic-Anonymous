{
 "cells": [
  {
   "cell_type": "markdown",
   "metadata": {},
   "source": [
    "### Introduction\n",
    "In this kernal, I will use TF-IDF to vectorize the articles data and cluster them. Then, I will make paper recommendation."
   ]
  },
  {
   "cell_type": "markdown",
   "metadata": {},
   "source": [
    "**1. Input data**"
   ]
  },
  {
   "cell_type": "code",
   "execution_count": 1,
   "metadata": {},
   "outputs": [],
   "source": [
    "import numpy as np\n",
    "import pandas as pd \n",
    "import matplotlib.pyplot as plt\n",
    "%matplotlib inline\n",
    "from sklearn.cluster import MiniBatchKMeans\n",
    "from sklearn.feature_extraction.text import TfidfVectorizer"
   ]
  },
  {
   "cell_type": "code",
   "execution_count": 2,
   "metadata": {},
   "outputs": [],
   "source": [
    "text = pd.read_csv('Final_AA_without_Nan.csv')"
   ]
  },
  {
   "cell_type": "code",
   "execution_count": 3,
   "metadata": {},
   "outputs": [
    {
     "data": {
      "text/html": [
       "<div>\n",
       "<style scoped>\n",
       "    .dataframe tbody tr th:only-of-type {\n",
       "        vertical-align: middle;\n",
       "    }\n",
       "\n",
       "    .dataframe tbody tr th {\n",
       "        vertical-align: top;\n",
       "    }\n",
       "\n",
       "    .dataframe thead th {\n",
       "        text-align: right;\n",
       "    }\n",
       "</style>\n",
       "<table border=\"1\" class=\"dataframe\">\n",
       "  <thead>\n",
       "    <tr style=\"text-align: right;\">\n",
       "      <th></th>\n",
       "      <th>Headlines</th>\n",
       "      <th>Articles</th>\n",
       "    </tr>\n",
       "  </thead>\n",
       "  <tbody>\n",
       "    <tr>\n",
       "      <th>0</th>\n",
       "      <td>BOOZE RUINS LIVES!</td>\n",
       "      <td>â€œTHE wake-up call for me should have been th...</td>\n",
       "    </tr>\n",
       "    <tr>\n",
       "      <th>1</th>\n",
       "      <td>ALCOHOLICS, IT'S NEVER TOO LATE!</td>\n",
       "      <td>IF YOU have a drinking problem or you know som...</td>\n",
       "    </tr>\n",
       "    <tr>\n",
       "      <th>2</th>\n",
       "      <td>NO BOOZE FOR THESE TWO!</td>\n",
       "      <td>SUNDAY was a joyful day as a husband and wife ...</td>\n",
       "    </tr>\n",
       "    <tr>\n",
       "      <th>3</th>\n",
       "      <td>A SEASON TO SOBER UP!</td>\n",
       "      <td>MZANSI is known as a nation of boozers.To give...</td>\n",
       "    </tr>\n",
       "    <tr>\n",
       "      <th>4</th>\n",
       "      <td>NAIR MAY GO FOR MENTAL HEALTH CHECK!</td>\n",
       "      <td>HE called President Cyril Ramaphosa the k-word...</td>\n",
       "    </tr>\n",
       "  </tbody>\n",
       "</table>\n",
       "</div>"
      ],
      "text/plain": [
       "                              Headlines  \\\n",
       "0                    BOOZE RUINS LIVES!   \n",
       "1      ALCOHOLICS, IT'S NEVER TOO LATE!   \n",
       "2               NO BOOZE FOR THESE TWO!   \n",
       "3                 A SEASON TO SOBER UP!   \n",
       "4  NAIR MAY GO FOR MENTAL HEALTH CHECK!   \n",
       "\n",
       "                                            Articles  \n",
       "0  â€œTHE wake-up call for me should have been th...  \n",
       "1  IF YOU have a drinking problem or you know som...  \n",
       "2  SUNDAY was a joyful day as a husband and wife ...  \n",
       "3  MZANSI is known as a nation of boozers.To give...  \n",
       "4  HE called President Cyril Ramaphosa the k-word...  "
      ]
     },
     "execution_count": 3,
     "metadata": {},
     "output_type": "execute_result"
    }
   ],
   "source": [
    "text = text.drop(['Descriptions', 'Authors', 'Published_Dates', 'Keywords', 'Summaries', 'Publication', 'category', 'Source_URLs'], axis=1).dropna().reset_index(drop=True)\n",
    "text.head()"
   ]
  },
  {
   "cell_type": "markdown",
   "metadata": {},
   "source": [
    "**2. Using TF-IDF vectorize the articles**\n",
    "\n",
    "**Introduction** to TF-IDF"
   ]
  },
  {
   "cell_type": "code",
   "execution_count": 4,
   "metadata": {},
   "outputs": [
    {
     "data": {
      "text/plain": [
       "0    â€œTHE wake-up call for me should have been th...\n",
       "1    IF YOU have a drinking problem or you know som...\n",
       "2    SUNDAY was a joyful day as a husband and wife ...\n",
       "3    MZANSI is known as a nation of boozers.To give...\n",
       "4    HE called President Cyril Ramaphosa the k-word...\n",
       "Name: Articles, dtype: object"
      ]
     },
     "execution_count": 4,
     "metadata": {},
     "output_type": "execute_result"
    }
   ],
   "source": [
    "text_content = text['Articles']\n",
    "vector = TfidfVectorizer(stop_words = 'english')\n",
    "tfidf = vector.fit_transform(text_content)\n",
    "text_content.head()"
   ]
  },
  {
   "cell_type": "markdown",
   "metadata": {},
   "source": [
    "**3. Using elbow method to decide cluster number**\n",
    "\n",
    "Introduction to **elbow method**"
   ]
  },
  {
   "cell_type": "code",
   "execution_count": 5,
   "metadata": {},
   "outputs": [
    {
     "data": {
      "image/png": "[encoded data removed]",
      "text/plain": [
       "<Figure size 432x288 with 1 Axes>"
      ]
     },
     "metadata": {
      "needs_background": "light"
     },
     "output_type": "display_data"
    }
   ],
   "source": [
    "K = range(1,15)\n",
    "SSE = []\n",
    "for k in K:\n",
    "    kmeans = MiniBatchKMeans(n_clusters = k,batch_size = 300)\n",
    "    kmeans.fit(tfidf)\n",
    "    SSE.append(kmeans.inertia_)\n",
    "\n",
    "plt.plot(K,SSE,'bx-')\n",
    "plt.title('Elbow Method')\n",
    "plt.xlabel('cluster numbers')\n",
    "plt.show()"
   ]
  },
  {
   "cell_type": "markdown",
   "metadata": {},
   "source": [
    "**5. Using MiniBatchKMean to cluster**\n",
    "\n",
    "**Comparison of the K-Means and MiniBatchKMeans clustering algorithms**"
   ]
  },
  {
   "cell_type": "code",
   "execution_count": 6,
   "metadata": {},
   "outputs": [
    {
     "name": "stdout",
     "output_type": "stream",
     "text": [
      "cluster0:\n",
      "['said', 'drinking', 'alcohol', 'says', 'iâ', 'people', 'like', 'years', 'drugs', 'imbizo', 'œi', 'life', 'drug', 'year', 'time']\n",
      "cluster1:\n",
      "['court', 'offshore', 'security', 'president', 'nair', 'khan', 'national', 'fonseca', 'mossack', 'commission', 'bail', 'documents', 'bathla', 'justice', 'sharif']\n",
      "cluster2:\n",
      "['students', 'said', 'police', 'complaint', 'camp', 'addicts', 'sex', 'joe', 'calls', 'dr', 'received', 'yoga', 'student', 'addiction', 'fr']\n",
      "cluster3:\n",
      "['aa', 'alcoholics', 'women', 'alcoholism', 'fellowship', 'drinking', 'hope', 'alcohol', 'members', 'lovato', 'sobriety', 'sober', 'help', 'march', 'adsbygoogle']\n"
     ]
    }
   ],
   "source": [
    "k = 4\n",
    "kmeans = MiniBatchKMeans(n_clusters = k)\n",
    "kmeans.fit(tfidf)\n",
    "centers = kmeans.cluster_centers_.argsort()[:,::-1]\n",
    "terms = vector.get_feature_names()\n",
    "\n",
    "for i in range(0,k):\n",
    "    word_list=[]\n",
    "    print(\"cluster%d:\"% i)\n",
    "    for j in centers[i,:15]:\n",
    "        word_list.append(terms[j])\n",
    "    print(word_list) "
   ]
  },
  {
   "cell_type": "markdown",
   "metadata": {},
   "source": [
    "**6. Article Recommendation**\n",
    "\n",
    "Since we had vectorize the articles by TF-IDF, we only need to compare articles by comparing their vectors. Bigger inner product of two vectors means they shares more similar information."
   ]
  },
  {
   "cell_type": "code",
   "execution_count": 7,
   "metadata": {},
   "outputs": [
    {
     "name": "stdout",
     "output_type": "stream",
     "text": [
      "BOOZE RUINS LIVES!\n",
      "\n",
      "similiar papers:\n",
      "Raising a toast to life\n",
      "Breaking new ground\n",
      "Hope for alcoholics through AA: Experts\n",
      "NO BOOZE FOR THESE TWO!\n",
      "Kicking the bottle, one day at a time\n"
     ]
    }
   ],
   "source": [
    "similarity = np.dot(tfidf[0],np.transpose(tfidf))\n",
    "x = np.array(similarity.toarray()[0])\n",
    "print(text['Headlines'][0])\n",
    "print('\\nsimiliar papers:')\n",
    "print('\\n'.join(text['Headlines'].loc[np.argsort(x)[-7:-2]]))"
   ]
  },
  {
   "cell_type": "markdown",
   "metadata": {},
   "source": [
    "**7. Topics modeling**\n",
    "\n",
    "Here I use NMF instead of LDA because LDA's calculation is time-consuming.\n",
    "\n",
    "The major topics consist of politics, society, finance and internetional affairs, which is quite similiar to our cluster result."
   ]
  },
  {
   "cell_type": "code",
   "execution_count": 8,
   "metadata": {},
   "outputs": [
    {
     "name": "stdout",
     "output_type": "stream",
     "text": [
      "Topic0:\n",
      "['programme', 'helpline', 'quit', 'disease', 'chandigarh', 'membership', 'aaâ', 'wanting', 'women', 'members', 'hope', 'drinking', 'alcoholics', 'fellowship', 'alcoholism']\n",
      "Topic1:\n",
      "['day', 'sex', 'time', 'life', 'imbizo', 'year', 'like', 'iâ', 'people', 'œi', 'said', 'years', 'drink', 'says', 'alcohol']\n",
      "Topic2:\n",
      "['sac', 'committee', 'singh', 'case', 'justice', 'iaf', 'commission', 'nair', 'said', 'complaints', 'bench', 'adsbygoogle', 'received', 'complaint', 'police']\n",
      "Topic3:\n",
      "['companies', 'law', 'zuma', 'islands', 'panama', 'firm', 'tax', 'british', 'sharif', 'president', 'documents', 'prime', 'mossack', 'fonseca', 'minister']\n"
     ]
    }
   ],
   "source": [
    "from sklearn.decomposition import NMF\n",
    "\n",
    "nmf  = NMF(n_components = 4)\n",
    "nmf.fit(tfidf)\n",
    "for i in range(0,k):\n",
    "    word_list=[]\n",
    "    print(\"Topic%d:\"% i)\n",
    "    for j in nmf.components_.argsort()[i,-16:-1]:\n",
    "        word_list.append(terms[j])\n",
    "    print(word_list)"
   ]
  },
  {
   "cell_type": "code",
   "execution_count": null,
   "metadata": {},
   "outputs": [],
   "source": []
  }
 ],
 "metadata": {
  "kernelspec": {
   "display_name": "Python 3",
   "language": "python",
   "name": "python3"
  },
  "language_info": {
   "codemirror_mode": {
    "name": "ipython",
    "version": 3
   },
   "file_extension": ".py",
   "mimetype": "text/x-python",
   "name": "python",
   "nbconvert_exporter": "python",
   "pygments_lexer": "ipython3",
   "version": "3.7.3"
  }
 },
 "nbformat": 4,
 "nbformat_minor": 2
}
