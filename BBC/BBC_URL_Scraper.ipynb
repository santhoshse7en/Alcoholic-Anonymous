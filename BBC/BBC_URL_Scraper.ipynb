{
 "cells": [
  {
   "cell_type": "code",
   "execution_count": 1,
   "metadata": {},
   "outputs": [
    {
     "name": "stdout",
     "output_type": "stream",
     "text": [
      "24 - clicks has made out of - 25\n",
      "Wall time: 32.8 s\n"
     ]
    }
   ],
   "source": [
    "%%time\n",
    "from selenium.webdriver.support import expected_conditions as ec\n",
    "from selenium.common.exceptions import TimeoutException\n",
    "from selenium.webdriver.support.ui import WebDriverWait\n",
    "from selenium.webdriver.chrome.options import Options\n",
    "from selenium.webdriver.common.by import By\n",
    "from selenium import webdriver\n",
    "import sys, time\n",
    "\n",
    "options = Options()\n",
    "options.headless = True\n",
    "driver = webdriver.Chrome(options=options)\n",
    "driver.get('https://www.bbc.co.uk/search?q=ALCOHOLICS+ANONYMOUS&filter=news')\n",
    "wait = WebDriverWait(driver, 10)\n",
    "\n",
    "index, maxclicks, url = 0, 25, []\n",
    "\n",
    "while True:\n",
    "    index += 1\n",
    "    try:\n",
    "        if index <= maxclicks:\n",
    "            more_button = wait.until(ec.visibility_of_element_located((By.CLASS_NAME, \"more\"))).click()\n",
    "    except TimeoutException:\n",
    "        break\n",
    "    sys.stdout.write('\\r' + str(index) + ' - ' + 'clicks has made out of' + ' - ' + str(maxclicks) + '\\r')\n",
    "    sys.stdout.flush()\n",
    "    \n",
    "review_elems = driver.find_elements_by_class_name('rs_touch')\n",
    "for news in review_elems:\n",
    "    url.append(news.get_attribute('href'))\n",
    "sys.stdout.write('\\r' + '\\n Done!' + '\\r')\n",
    "sys.stdout.flush()\n",
    "driver.quit()"
   ]
  },
  {
   "cell_type": "code",
   "execution_count": 2,
   "metadata": {},
   "outputs": [
    {
     "data": {
      "text/plain": [
       "241"
      ]
     },
     "execution_count": 2,
     "metadata": {},
     "output_type": "execute_result"
    }
   ],
   "source": [
    "len(url)"
   ]
  },
  {
   "cell_type": "code",
   "execution_count": null,
   "metadata": {},
   "outputs": [],
   "source": []
  }
 ],
 "metadata": {
  "kernelspec": {
   "display_name": "Python 3",
   "language": "python",
   "name": "python3"
  },
  "language_info": {
   "codemirror_mode": {
    "name": "ipython",
    "version": 3
   },
   "file_extension": ".py",
   "mimetype": "text/x-python",
   "name": "python",
   "nbconvert_exporter": "python",
   "pygments_lexer": "ipython3",
   "version": "3.7.1"
  }
 },
 "nbformat": 4,
 "nbformat_minor": 2
}
