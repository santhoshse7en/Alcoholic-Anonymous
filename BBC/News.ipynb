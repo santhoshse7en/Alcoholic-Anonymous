{
 "cells": [
  {
   "cell_type": "code",
   "execution_count": 1,
   "metadata": {},
   "outputs": [],
   "source": [
    "from newsplease import NewsPlease\n",
    "import pandas as pd \n",
    "import sys"
   ]
  },
  {
   "cell_type": "code",
   "execution_count": 2,
   "metadata": {},
   "outputs": [
    {
     "data": {
      "text/html": [
       "<div>\n",
       "<style scoped>\n",
       "    .dataframe tbody tr th:only-of-type {\n",
       "        vertical-align: middle;\n",
       "    }\n",
       "\n",
       "    .dataframe tbody tr th {\n",
       "        vertical-align: top;\n",
       "    }\n",
       "\n",
       "    .dataframe thead th {\n",
       "        text-align: right;\n",
       "    }\n",
       "</style>\n",
       "<table border=\"1\" class=\"dataframe\">\n",
       "  <thead>\n",
       "    <tr style=\"text-align: right;\">\n",
       "      <th></th>\n",
       "      <th>Unnamed: 0</th>\n",
       "      <th>BBC_URL</th>\n",
       "    </tr>\n",
       "  </thead>\n",
       "  <tbody>\n",
       "    <tr>\n",
       "      <th>0</th>\n",
       "      <td>0</td>\n",
       "      <td>http://www.bbc.co.uk/news/uk-wales-45023075</td>\n",
       "    </tr>\n",
       "    <tr>\n",
       "      <th>1</th>\n",
       "      <td>1</td>\n",
       "      <td>http://www.bbc.co.uk/news/uk-scotland-edinburg...</td>\n",
       "    </tr>\n",
       "    <tr>\n",
       "      <th>2</th>\n",
       "      <td>2</td>\n",
       "      <td>http://www.bbc.co.uk/news/magazine-33049093</td>\n",
       "    </tr>\n",
       "    <tr>\n",
       "      <th>3</th>\n",
       "      <td>3</td>\n",
       "      <td>https://www.bbc.co.uk/news/newsbeat-46983805</td>\n",
       "    </tr>\n",
       "    <tr>\n",
       "      <th>4</th>\n",
       "      <td>4</td>\n",
       "      <td>http://www.bbc.co.uk/news/10280806</td>\n",
       "    </tr>\n",
       "  </tbody>\n",
       "</table>\n",
       "</div>"
      ],
      "text/plain": [
       "   Unnamed: 0                                            BBC_URL\n",
       "0           0        http://www.bbc.co.uk/news/uk-wales-45023075\n",
       "1           1  http://www.bbc.co.uk/news/uk-scotland-edinburg...\n",
       "2           2        http://www.bbc.co.uk/news/magazine-33049093\n",
       "3           3       https://www.bbc.co.uk/news/newsbeat-46983805\n",
       "4           4                 http://www.bbc.co.uk/news/10280806"
      ]
     },
     "execution_count": 2,
     "metadata": {},
     "output_type": "execute_result"
    }
   ],
   "source": [
    "data = pd.read_csv(\"BBC_URL.csv\") \n",
    "data.head()"
   ]
  },
  {
   "cell_type": "code",
   "execution_count": 3,
   "metadata": {},
   "outputs": [
    {
     "name": "stdout",
     "output_type": "stream",
     "text": [
      "240 : http://news.bbc.co.uk/onthisday/hi/witness/january/1/newsid_4542000/4542042.stmml72265.stm621.stmstm\r"
     ]
    }
   ],
   "source": [
    "t, dtp, iu, a, td = [], [], [], [], []\n",
    "for index, url in enumerate(data['BBC_URL']):\n",
    "    try:\n",
    "        article = NewsPlease.from_url(url)\n",
    "        t.append(article.title)\n",
    "        dtp.append(str(article.date_publish))\n",
    "        iu.append(article.image_url)\n",
    "        td.append(article.text)\n",
    "        a.append(article.authors)\n",
    "    except:\n",
    "        t.append(None)\n",
    "        dtp.append(None)\n",
    "        iu.append(None)\n",
    "        a.append(None)\n",
    "        td.append(None)\n",
    "\n",
    "    sys.stdout.write('\\r' + str(index) + ' : ' + str(url) + '\\r')\n",
    "    sys.stdout.flush()"
   ]
  },
  {
   "cell_type": "code",
   "execution_count": 4,
   "metadata": {},
   "outputs": [],
   "source": [
    "tbl = pd.DataFrame({'title' : t, 'Author' : a, 'Date' : dtp, 'Image_url' : iu, 'News' : td})\n",
    "tbl.to_excel('BBC_AA_News.xls')"
   ]
  },
  {
   "cell_type": "code",
   "execution_count": null,
   "metadata": {},
   "outputs": [],
   "source": []
  }
 ],
 "metadata": {
  "kernelspec": {
   "display_name": "Python 3",
   "language": "python",
   "name": "python3"
  },
  "language_info": {
   "codemirror_mode": {
    "name": "ipython",
    "version": 3
   },
   "file_extension": ".py",
   "mimetype": "text/x-python",
   "name": "python",
   "nbconvert_exporter": "python",
   "pygments_lexer": "ipython3",
   "version": "3.7.1"
  }
 },
 "nbformat": 4,
 "nbformat_minor": 2
}
