{
 "cells": [
  {
   "cell_type": "code",
   "execution_count": null,
   "metadata": {},
   "outputs": [],
   "source": [
    "from selenium import webdriver\n",
    "from newsplease import NewsPlease # An integrated web crawler and information extractor for news \n",
    "from bs4 import BeautifulSoup # Python library for pulling data out of HTML and XML files\n",
    "from requests import get # standard for making HTTP requests in Python\n",
    "import pandas as pd # library written for data manipulation and analysis\n",
    "import sys #  System-specific parameters and functions"
   ]
  },
  {
   "cell_type": "code",
   "execution_count": null,
   "metadata": {},
   "outputs": [],
   "source": [
    "url= 'https://economictimes.indiatimes.com/topic/ALCOHOLIC-ANONYMOUS'\n",
    "browser = webdriver.Chrome()\n",
    "browser.get(url)"
   ]
  },
  {
   "cell_type": "code",
   "execution_count": null,
   "metadata": {},
   "outputs": [],
   "source": [
    "browser.find_element_by_css_selector(\"div.autoload_continue\").click()"
   ]
  },
  {
   "cell_type": "code",
   "execution_count": null,
   "metadata": {},
   "outputs": [],
   "source": [
    "res = browser.page_source"
   ]
  },
  {
   "cell_type": "code",
   "execution_count": null,
   "metadata": {},
   "outputs": [],
   "source": [
    "soup = BeautifulSoup(res, 'lxml')"
   ]
  },
  {
   "cell_type": "code",
   "execution_count": null,
   "metadata": {},
   "outputs": [],
   "source": [
    "flt = ['https://economictimes.indiatimes.com' + soup.select('div.flr.topicstry')[i].a['href'] for i in range(len(soup.select('div.flr.topicstry')))]"
   ]
  },
  {
   "cell_type": "code",
   "execution_count": null,
   "metadata": {},
   "outputs": [],
   "source": [
    "clr = ['https://economictimes.indiatimes.com' + soup.select('div.clr.flt.topicstry')[i].a['href'] for i in range(len(soup.select('div.clr.flt.topicstry')))]"
   ]
  },
  {
   "cell_type": "code",
   "execution_count": null,
   "metadata": {},
   "outputs": [],
   "source": [
    "urls = flt + clr"
   ]
  },
  {
   "cell_type": "code",
   "execution_count": null,
   "metadata": {},
   "outputs": [],
   "source": [
    "len(urls)"
   ]
  },
  {
   "cell_type": "code",
   "execution_count": null,
   "metadata": {},
   "outputs": [],
   "source": [
    "df = pd.DataFrame({'urls' : urls})\n",
    "df.to_csv('urls.csv', index=False)"
   ]
  },
  {
   "cell_type": "code",
   "execution_count": null,
   "metadata": {},
   "outputs": [],
   "source": [
    "%%time\n",
    "headline, time, news, image, authors = [], [], [], [], []\n",
    "\n",
    "for index, url in enumerate(urls):\n",
    "    try:\n",
    "        # Parse the url to NewsPlease \n",
    "        article = NewsPlease.from_url(url)\n",
    "    \n",
    "        # Extracts the Headlines of News Article related to AA\n",
    "        headline.append(article.title.strip())\n",
    "        \n",
    "        # Extracts the Authors of News Article related to AA\n",
    "        authors.append(article.authors)\n",
    "        \n",
    "        # Extracts the Main_Image_url of News Article related to AA\n",
    "        image.append(article.image_url)\n",
    "        \n",
    "        # Extracts the Published_Date of News Article related to AA\n",
    "        time.append(str(article.date_publish.isoformat()))\n",
    "        \n",
    "        # Extracts the Main_News from Article related to AA\n",
    "        news.append(article.text.replace('\\n', '').replace('\\r', '').strip())\n",
    "    except:\n",
    "        headline.append(None)\n",
    "        authors.append(None)\n",
    "        image.append(None)\n",
    "        time.append(None)\n",
    "        news.append(None)\n",
    "        \n",
    "    sys.stdout.write('\\r' + str(index) + ' : ' + str(url) + '\\r')\n",
    "    sys.stdout.flush()"
   ]
  },
  {
   "cell_type": "code",
   "execution_count": null,
   "metadata": {},
   "outputs": [],
   "source": [
    "tbl = pd.DataFrame({'Headline' : headline, \n",
    "                    'Authors' : authors, \n",
    "                    'Main_Image' : image, \n",
    "                    'Published_Date' : time, \n",
    "                    'News' : news,\n",
    "                    'Source_urls' : urls})\n",
    "tbl"
   ]
  },
  {
   "cell_type": "code",
   "execution_count": null,
   "metadata": {},
   "outputs": [],
   "source": [
    "tbl.to_csv('Economics_Times_AA_News_DETAILS.csv', index=False)"
   ]
  }
 ],
 "metadata": {
  "kernelspec": {
   "display_name": "Python 3",
   "language": "python",
   "name": "python3"
  },
  "language_info": {
   "codemirror_mode": {
    "name": "ipython",
    "version": 3
   },
   "file_extension": ".py",
   "mimetype": "text/x-python",
   "name": "python",
   "nbconvert_exporter": "python",
   "pygments_lexer": "ipython3",
   "version": "3.7.1"
  }
 },
 "nbformat": 4,
 "nbformat_minor": 2
}
